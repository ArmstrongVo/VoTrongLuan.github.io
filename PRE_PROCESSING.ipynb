{
  "nbformat": 4,
  "nbformat_minor": 0,
  "metadata": {
    "colab": {
      "provenance": [],
      "gpuType": "T4",
      "mount_file_id": "1A9cPbZbGMgBHujLmnsKMbrk9FxKKlwcB",
      "authorship_tag": "ABX9TyOWWs85rZZB8CKin3i+ZuGn",
      "include_colab_link": true
    },
    "kernelspec": {
      "name": "python3",
      "display_name": "Python 3"
    },
    "language_info": {
      "name": "python"
    },
    "accelerator": "GPU",
    "gpuClass": "standard"
  },
  "cells": [
    {
      "cell_type": "markdown",
      "metadata": {
        "id": "view-in-github",
        "colab_type": "text"
      },
      "source": [
        "<a href=\"https://colab.research.google.com/github/ArmstrongVo/VoTrongLuan.github.io/blob/main/PRE_PROCESSING.ipynb\" target=\"_parent\"><img src=\"https://colab.research.google.com/assets/colab-badge.svg\" alt=\"Open In Colab\"/></a>"
      ]
    },
    {
      "cell_type": "code",
      "execution_count": null,
      "metadata": {
        "id": "qrLVXl-FduGY"
      },
      "outputs": [],
      "source": []
    },
    {
      "cell_type": "code",
      "source": [
        "from google.colab import drive\n",
        "drive.mount('/content/drive')"
      ],
      "metadata": {
        "colab": {
          "base_uri": "https://localhost:8080/"
        },
        "id": "9T94v4VTeYji",
        "outputId": "ac1e76ac-3004-47cd-b581-9d6e4854ed80"
      },
      "execution_count": 1,
      "outputs": [
        {
          "output_type": "stream",
          "name": "stdout",
          "text": [
            "Mounted at /content/drive\n"
          ]
        }
      ]
    },
    {
      "cell_type": "code",
      "source": [
        "!pip install pillow"
      ],
      "metadata": {
        "colab": {
          "base_uri": "https://localhost:8080/"
        },
        "id": "oKD--XMKrQwL",
        "outputId": "f36d78bd-834a-40ea-ed5a-25d6e375cf29"
      },
      "execution_count": 8,
      "outputs": [
        {
          "output_type": "stream",
          "name": "stdout",
          "text": [
            "Looking in indexes: https://pypi.org/simple, https://us-python.pkg.dev/colab-wheels/public/simple/\n",
            "Requirement already satisfied: pillow in /usr/local/lib/python3.9/dist-packages (8.4.0)\n"
          ]
        }
      ]
    },
    {
      "cell_type": "code",
      "source": [
        "!pip install keras\n"
      ],
      "metadata": {
        "colab": {
          "base_uri": "https://localhost:8080/"
        },
        "id": "F7XARHKHrYL5",
        "outputId": "a4b0f27d-3712-4998-c3ac-a8c0519e7045"
      },
      "execution_count": 10,
      "outputs": [
        {
          "output_type": "stream",
          "name": "stdout",
          "text": [
            "Looking in indexes: https://pypi.org/simple, https://us-python.pkg.dev/colab-wheels/public/simple/\n",
            "Requirement already satisfied: keras in /usr/local/lib/python3.9/dist-packages (2.12.0)\n"
          ]
        }
      ]
    },
    {
      "cell_type": "code",
      "source": [
        "# import library\n",
        "import keras\n",
        "import cv2\n",
        "import os\n",
        "import numpy as np\n",
        "import matplotlib.pyplot as plt\n",
        "from glob import glob\n",
        "from keras.models import Sequential\n",
        "from keras.models import load_model\n",
        "from keras.preprocessing import image\n",
        "#from keras.preprocessing.image import load_img\n",
        "from keras.layers import Dense, Dropout, Flatten,Activation\n",
        "from keras.layers import Conv2D, MaxPooling2D, Conv3D, BatchNormalization\n",
        "from keras.preprocessing.image import ImageDataGenerator, load_img,img_to_array"
      ],
      "metadata": {
        "colab": {
          "base_uri": "https://localhost:8080/",
          "height": 391
        },
        "id": "EPYRjaJJnjDN",
        "outputId": "6b1fc048-6333-49b0-ed61-8d77727d8c59"
      },
      "execution_count": 11,
      "outputs": [
        {
          "output_type": "error",
          "ename": "ImportError",
          "evalue": "ignored",
          "traceback": [
            "\u001b[0;31m---------------------------------------------------------------------------\u001b[0m",
            "\u001b[0;31mImportError\u001b[0m                               Traceback (most recent call last)",
            "\u001b[0;32m<ipython-input-11-908d983c75ee>\u001b[0m in \u001b[0;36m<cell line: 11>\u001b[0;34m()\u001b[0m\n\u001b[1;32m      9\u001b[0m \u001b[0;32mfrom\u001b[0m \u001b[0mkeras\u001b[0m\u001b[0;34m.\u001b[0m\u001b[0mmodels\u001b[0m \u001b[0;32mimport\u001b[0m \u001b[0mload_model\u001b[0m\u001b[0;34m\u001b[0m\u001b[0;34m\u001b[0m\u001b[0m\n\u001b[1;32m     10\u001b[0m \u001b[0;32mfrom\u001b[0m \u001b[0mkeras\u001b[0m\u001b[0;34m.\u001b[0m\u001b[0mpreprocessing\u001b[0m \u001b[0;32mimport\u001b[0m \u001b[0mimage\u001b[0m\u001b[0;34m\u001b[0m\u001b[0;34m\u001b[0m\u001b[0m\n\u001b[0;32m---> 11\u001b[0;31m \u001b[0;32mfrom\u001b[0m \u001b[0mkeras\u001b[0m\u001b[0;34m.\u001b[0m\u001b[0mpreprocessing\u001b[0m\u001b[0;34m.\u001b[0m\u001b[0mimage\u001b[0m \u001b[0;32mimport\u001b[0m \u001b[0mload_img\u001b[0m\u001b[0;34m\u001b[0m\u001b[0;34m\u001b[0m\u001b[0m\n\u001b[0m\u001b[1;32m     12\u001b[0m \u001b[0;32mfrom\u001b[0m \u001b[0mkeras\u001b[0m\u001b[0;34m.\u001b[0m\u001b[0mlayers\u001b[0m \u001b[0;32mimport\u001b[0m \u001b[0mDense\u001b[0m\u001b[0;34m,\u001b[0m \u001b[0mDropout\u001b[0m\u001b[0;34m,\u001b[0m \u001b[0mFlatten\u001b[0m\u001b[0;34m,\u001b[0m\u001b[0mActivation\u001b[0m\u001b[0;34m\u001b[0m\u001b[0;34m\u001b[0m\u001b[0m\n\u001b[1;32m     13\u001b[0m \u001b[0;32mfrom\u001b[0m \u001b[0mkeras\u001b[0m\u001b[0;34m.\u001b[0m\u001b[0mlayers\u001b[0m \u001b[0;32mimport\u001b[0m \u001b[0mConv2D\u001b[0m\u001b[0;34m,\u001b[0m \u001b[0mMaxPooling2D\u001b[0m\u001b[0;34m,\u001b[0m \u001b[0mConv3D\u001b[0m\u001b[0;34m,\u001b[0m \u001b[0mBatchNormalization\u001b[0m\u001b[0;34m\u001b[0m\u001b[0;34m\u001b[0m\u001b[0m\n",
            "\u001b[0;31mImportError\u001b[0m: cannot import name 'load_img' from 'keras.preprocessing.image' (/usr/local/lib/python3.9/dist-packages/keras/preprocessing/image.py)",
            "",
            "\u001b[0;31m---------------------------------------------------------------------------\u001b[0;32m\nNOTE: If your import is failing due to a missing package, you can\nmanually install dependencies using either !pip or !apt.\n\nTo view examples of installing some common dependencies, click the\n\"Open Examples\" button below.\n\u001b[0;31m---------------------------------------------------------------------------\u001b[0m\n"
          ],
          "errorDetails": {
            "actions": [
              {
                "action": "open_url",
                "actionText": "Open Examples",
                "url": "/notebooks/snippets/importing_libraries.ipynb"
              }
            ]
          }
        }
      ]
    },
    {
      "cell_type": "code",
      "source": [
        "# pre -processing \n",
        "# nguồn data thu được gồm nhiều kiểu hình ảnh khác nhau, để kết quả train được tốt nhất \n",
        "# em tiến hành thêm 1 giai đoạn pre-processing trước khi đưa vào mô hình CNN để train\n",
        "\n",
        "def equalize_histogram(image):\n",
        "    # Chuyển ảnh sang ảnh xám nếu là ảnh màu\n",
        "    if len(image.shape) > 2:\n",
        "        image = cv2.cvtColor(image, cv2.COLOR_BGR2GRAY)\n",
        "    \n",
        "    # Cân bằng histogram\n",
        "    equalized_image = cv2.equalizeHist(image)\n",
        "    \n",
        "    return equalized_image\n",
        "\n",
        "def augment_data(input_path, output_path):\n",
        "    # Lấy danh sách tên file trong thư mục đầu vào\n",
        "    file_list = os.listdir(input_path)\n",
        "\n",
        "    # Duyệt qua từng file trong danh sách\n",
        "    for filename in file_list:\n",
        "        # Đường dẫn đầy đủ đến file\n",
        "        input_file = os.path.join(input_path, filename)\n",
        "        \n",
        "        # Kiểm tra nếu là file ảnh\n",
        "        if os.path.isfile(input_file) and any(extension in filename.lower() for extension in ['.png', '.jpg', '.jpeg']):\n",
        "            # Đọc ảnh từ file\n",
        "            image = cv2.imread(input_file)\n",
        "            \n",
        "            # Cân bằng histogram\n",
        "            equalized_image = equalize_histogram(image)\n",
        "            \n",
        "            # Áp dụng data augmentation\n",
        "            augmented_images = []\n",
        "            augmented_images.append(image)  # Ảnh gốc\n",
        "            augmented_images.append(cv2.flip(image, 1))  # Lật ngang\n",
        "            augmented_images.append(cv2.flip(image, 0))  # Lật dọc\n",
        "            augmented_images.append(cv2.rotate(image, cv2.ROTATE_90_CLOCKWISE))  # Xoay 90 độ theo chiều kim đồng hồ\n",
        "            \n",
        "            # Cân bằng histogram cho từng ảnh đã được augment\n",
        "            augmented_equalized_images = [equalize_histogram(img) for img in augmented_images]\n",
        "            \n",
        "            # Lưu ảnh sau khi đã cân bằng histogram và augment\n",
        "            for i, augmented_equalized_image in enumerate(augmented_equalized_images):\n",
        "                output_filename = f\"{os.path.splitext(filename)[0]}_{i}.jpg\"\n",
        "                output_file = os.path.join(output_path, output_filename)\n",
        "                cv2.imwrite(output_file, augmented_equalized_image)\n",
        "\n",
        "            print(f\"Processed: {input_file}\")\n",
        "\n",
        "# Đường dẫn thư mục chứa ảnh đầu vào\n",
        "input_folder = '/content/drive/MyDrive/DATA FOR AI/PNEUMONIA/testdata'\n",
        "\n",
        "# Đường dẫn thư mục lưu ảnh sau khi đã cân bằng histogram và augment\n",
        "output_folder = '/content/drive/MyDrive/DATA FOR AI/PNEUMONIA/data final'\n",
        "\n",
        "# Gọi hàm kết hợp cân bằng histogram và data augmentation\n",
        "augment_data(input_folder, output_folder)\n"
      ],
      "metadata": {
        "colab": {
          "base_uri": "https://localhost:8080/"
        },
        "id": "VodagWuojflh",
        "outputId": "c36f9aaf-e004-4bb8-b48e-25f2d03e9871"
      },
      "execution_count": 1,
      "outputs": [
        {
          "output_type": "stream",
          "name": "stdout",
          "text": [
            "Processed: /content/drive/MyDrive/DATA FOR AI/PNEUMONIA/testdata/1_CXRCTThoraximagesofCOVID-19fromSingapore_pdf-001-fig2a_png.rf.188a91ae5e8ba7de3ce5bb984d50731d.jpg\n",
            "Processed: /content/drive/MyDrive/DATA FOR AI/PNEUMONIA/testdata/1-s2_0-S0140673620303706-fx1_lrg_jpg.rf.2fcf739604cb629ccaf9bc20b25b5938.jpg\n",
            "Processed: /content/drive/MyDrive/DATA FOR AI/PNEUMONIA/testdata/1-s2_0-S0929664620300449-gr2_lrg-a_jpg.rf.3c9d9faa9ca220b06d12b932673be808.jpg\n",
            "Processed: /content/drive/MyDrive/DATA FOR AI/PNEUMONIA/testdata/1_CXRCTThoraximagesofCOVID-19fromSingapore_pdf-003-fig4b_png.rf.548fb5e2191ffc3593c603b17f1c36f5.jpg\n",
            "Processed: /content/drive/MyDrive/DATA FOR AI/PNEUMONIA/testdata/1_CXRCTThoraximagesofCOVID-19fromSingapore_pdf-000-fig1a_png.rf.538ecee8fa40027cd0de1394b70ed6b9.jpg\n",
            "Processed: /content/drive/MyDrive/DATA FOR AI/PNEUMONIA/testdata/1-s2_0-S0929664620300449-gr2_lrg-b_jpg.rf.6889daf66d8f6fa562a5e3837fc94662.jpg\n",
            "Processed: /content/drive/MyDrive/DATA FOR AI/PNEUMONIA/testdata/1_CXRCTThoraximagesofCOVID-19fromSingapore_pdf-000-fig1b_png.rf.925189e20f910f0f64c03200c8c9c230.jpg\n",
            "Processed: /content/drive/MyDrive/DATA FOR AI/PNEUMONIA/testdata/01E392EE-69F9-4E33-BFCE-E5C968654078_jpeg.rf.9ca6c6d4e981be022b170076c18f34bc.jpg\n",
            "Processed: /content/drive/MyDrive/DATA FOR AI/PNEUMONIA/testdata/1F6343EE-AFEC-4B7D-97F5-62797EE18767_jpeg.rf.af43e033a9971a457267863688687650.jpg\n",
            "Processed: /content/drive/MyDrive/DATA FOR AI/PNEUMONIA/testdata/1B734A89-A1BF-49A8-A1D3-66FAFA4FAC5D_jpeg.rf.ad397a33f395408f41f1a0fc7423b817.jpg\n",
            "Processed: /content/drive/MyDrive/DATA FOR AI/PNEUMONIA/testdata/1_CXRCTThoraximagesofCOVID-19fromSingapore_pdf-002-fig3a_png.rf.d9c774aa4831da77fe45388db7436aff.jpg\n",
            "Processed: /content/drive/MyDrive/DATA FOR AI/PNEUMONIA/testdata/1_CXRCTThoraximagesofCOVID-19fromSingapore_pdf-002-fig3b_png.rf.dd02cca591bffe75d129ba3ee86ca21e.jpg\n",
            "Processed: /content/drive/MyDrive/DATA FOR AI/PNEUMONIA/testdata/1_CXRCTThoraximagesofCOVID-19fromSingapore_pdf-003-fig4a_png.rf.e31b156fd513bc7dbc960556c593bc54.jpg\n",
            "Processed: /content/drive/MyDrive/DATA FOR AI/PNEUMONIA/testdata/1_CXRCTThoraximagesofCOVID-19fromSingapore_pdf-001-fig2b_png.rf.d756301bff63dda706ee5b31cdcf5578.jpg\n",
            "Processed: /content/drive/MyDrive/DATA FOR AI/PNEUMONIA/testdata/1-s2_0-S0929664620300449-gr2_lrg-d_jpg.rf.f25c2563348206ef1c5271461eb74a28.jpg\n",
            "Processed: /content/drive/MyDrive/DATA FOR AI/PNEUMONIA/testdata/1-s2_0-S0929664620300449-gr2_lrg-c_jpg.rf.ffdec2721aeb8dc040fe06e922ebd80d.jpg\n"
          ]
        }
      ]
    }
  ]
}