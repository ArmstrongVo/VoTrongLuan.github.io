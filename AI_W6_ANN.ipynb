{
  "nbformat": 4,
  "nbformat_minor": 0,
  "metadata": {
    "colab": {
      "provenance": [],
      "authorship_tag": "ABX9TyPam1qedHQUobIaP7wQma+w",
      "include_colab_link": true
    },
    "kernelspec": {
      "name": "python3",
      "display_name": "Python 3"
    },
    "language_info": {
      "name": "python"
    }
  },
  "cells": [
    {
      "cell_type": "markdown",
      "metadata": {
        "id": "view-in-github",
        "colab_type": "text"
      },
      "source": [
        "<a href=\"https://colab.research.google.com/github/ArmstrongVo/ArmstrongVo.github.io/blob/main/AI_W6_ANN.ipynb\" target=\"_parent\"><img src=\"https://colab.research.google.com/assets/colab-badge.svg\" alt=\"Open In Colab\"/></a>"
      ]
    },
    {
      "cell_type": "code",
      "execution_count": 17,
      "metadata": {
        "colab": {
          "base_uri": "https://localhost:8080/"
        },
        "id": "xVrcgCJ6jVEj",
        "outputId": "bab2fa60-9852-4497-e07c-2d837f276f5f"
      },
      "outputs": [
        {
          "output_type": "stream",
          "name": "stdout",
          "text": [
            "độ chính xác của mô hình: 1.0\n"
          ]
        }
      ],
      "source": [
        "from sklearn.linear_model import Perceptron\n",
        "x= [[0,0],[0,1],[1,0],[1,1]]\n",
        "t=[0,1,1,1]\n",
        "model= Perceptron()\n",
        "model.fit(x,t)\n",
        "model.score(x,t)\n",
        "print('độ chính xác của mô hình:',model.score(x,t))"
      ]
    },
    {
      "cell_type": "code",
      "source": [
        "x1 = [[0,0.5],[0.5,0],[0.5,0.5],[0.4,0],[10,0],[-10,0],[0.5,0.6]]\n",
        "y1= model.predict(x1)\n",
        "model.score(x1,y1)\n",
        "print(y1)\n"
      ],
      "metadata": {
        "colab": {
          "base_uri": "https://localhost:8080/"
        },
        "id": "wAybXXXIvKT8",
        "outputId": "dad78f14-8de5-4449-9cd2-a20b69e3f66f"
      },
      "execution_count": 25,
      "outputs": [
        {
          "output_type": "stream",
          "name": "stdout",
          "text": [
            "[0 0 1 0 1 0 1]\n"
          ]
        }
      ]
    },
    {
      "cell_type": "code",
      "source": [
        "from sklearn.linear_model import Perceptron\n",
        "x= [[-0.5,-0.5],[-0.5,0.5],[0.3,-0.5],[-0.1,1]]\n",
        "t=[1,1,0,0]\n",
        "model= Perceptron()\n",
        "model.fit(x,t)\n",
        "model.score(x,t)\n",
        "print('độ chính xác của mô hình:',model.score(x,t))\n",
        "x1 = [[-0.7,-0.7],[-0.7,0],[1,1],[-0.2,0.2],[-0.1,0.9],[0,0]]\n",
        "y1= model.predict(x1)\n",
        "model.score(x1,y1)\n",
        "print(y1)"
      ],
      "metadata": {
        "colab": {
          "base_uri": "https://localhost:8080/"
        },
        "id": "SB_BdRKxy2zj",
        "outputId": "4981637c-654b-4dd2-acbb-6e7e6a91f56d"
      },
      "execution_count": 36,
      "outputs": [
        {
          "output_type": "stream",
          "name": "stdout",
          "text": [
            "độ chính xác của mô hình: 1.0\n",
            "[1 1 0 1 0 0]\n"
          ]
        }
      ]
    },
    {
      "cell_type": "code",
      "source": [
        "from sklearn.linear_model import Perceptron\n",
        "from sklearn import datasets\n",
        "from sklearn.model_selection import train_test_split\n",
        "from sklearn.metrics import accuracy_score\n",
        "from sklearn.preprocessing import StandardScaler    #chia tỉ lệ phù hợp \n",
        "iris = datasets.load_iris()   # load dữ liệu iris có sẵn trong thư viện sklearn\n",
        "X=iris.data #lưu dữ liệu vào mảng X\n",
        "y=iris.target\n",
        "print(X[:5])\n",
        "print(y[:5])\n",
        "# one hot encoding\n",
        "X_train,X_test,y_train,y_test=train_test_split(X,y,test_size=0.3)\n",
        "sc=StandardScaler()\n",
        "sc.fit(X_train)\n",
        "X_train_std = sc.transform(X_train)\n",
        "X_test_std = sc.transform(X_test)\n",
        "print(X_train_std[:5],X_train[:5])\n",
        "print(y[:5])\n",
        "model = Perceptron(max_iter=4000,eta0=0.9,random_state=0)   \n",
        "#max_iter : số lần học\n",
        "#eta0 : tốc độ học\n",
        "#random_state : trạng thái lấy giá trị ngẫu nhiên\n",
        "model.fit(X_train_std,y_train)\n",
        "y_perd = model.predict(X_test_std)\n",
        "print(y_perd)\n",
        "print(y_test)\n",
        "print('độ chính xác của mô hình:',accuracy_score(y_test,y_perd))\n",
        "\n",
        "\n"
      ],
      "metadata": {
        "colab": {
          "base_uri": "https://localhost:8080/"
        },
        "id": "e-0cUAqf1wf-",
        "outputId": "395403a8-6005-4309-a7ff-400707878bb4"
      },
      "execution_count": 58,
      "outputs": [
        {
          "output_type": "stream",
          "name": "stdout",
          "text": [
            "[[5.1 3.5 1.4 0.2]\n",
            " [4.9 3.  1.4 0.2]\n",
            " [4.7 3.2 1.3 0.2]\n",
            " [4.6 3.1 1.5 0.2]\n",
            " [5.  3.6 1.4 0.2]]\n",
            "[0 0 0 0 0]\n",
            "[[-0.52113396  1.93915754 -1.14472543 -1.03478335]\n",
            " [-0.05244817 -0.79388329  0.76226001  0.95761735]\n",
            " [-1.10699119 -1.2493901   0.42573316  0.69196393]\n",
            " [ 0.29906617 -0.56612989  0.53790878  0.02783036]\n",
            " [ 0.29906617 -1.02163669  1.04269904  0.29348379]] [[5.4 3.9 1.7 0.4]\n",
            " [5.8 2.7 5.1 1.9]\n",
            " [4.9 2.5 4.5 1.7]\n",
            " [6.1 2.8 4.7 1.2]\n",
            " [6.1 2.6 5.6 1.4]]\n",
            "[0 0 0 0 0]\n",
            "[0 0 2 1 2 0 0 0 0 2 1 0 2 0 0 0 2 2 0 1 1 2 2 2 1 1 2 0 1 2 1 1 1 1 2 0 0\n",
            " 1 1 1 1 1 2 1 2]\n",
            "[0 0 2 1 2 0 0 0 0 2 1 0 2 0 0 0 2 2 0 2 2 1 2 2 2 1 2 0 1 2 1 1 1 1 2 0 0\n",
            " 1 1 1 1 1 2 1 2]\n",
            "độ chính xác của mô hình: 0.9111111111111111\n"
          ]
        }
      ]
    },
    {
      "cell_type": "code",
      "source": [
        "from re import S\n",
        "from matplotlib import figure\n",
        "#from skfuzzy.membership.generatemf import gaussmf\n",
        "import matplotlib.pyplot as plt\n",
        "#from skfuzzy import control as ctrl \n",
        "import numpy as np\n",
        "#import skfuzzy as fuzz\n",
        "import matplotlib.pyplot as plt\n",
        "from mpl_toolkits.mplot3d import axis3d\n",
        "import pandas as pd\n",
        "url = 'crabs.csv'\n",
        "data1 = pd.read_csv(url)\n",
        "data1.hist()\n",
        "plt.show \n",
        "data1.head(20)\n",
        "data1.replace(['B','O','M','F'],[1,0,1,0])"
      ],
      "metadata": {
        "colab": {
          "base_uri": "https://localhost:8080/",
          "height": 687
        },
        "id": "zup_5NBj7DwM",
        "outputId": "c6eabee0-93e3-40ce-9686-cbd27acf2db3"
      },
      "execution_count": 69,
      "outputs": [
        {
          "output_type": "execute_result",
          "data": {
            "text/plain": [
              "     speies  sex  index  fontallip  rearwidth  length  width  depth\n",
              "0         1    1      1        8.1        6.7    16.1   19.0    7.0\n",
              "1         1    1      2        8.8        7.7    18.1   20.8    7.4\n",
              "2         1    1      3        9.2        7.8    19.0   22.4    7.7\n",
              "3         1    1      4        9.6        7.9    20.1   23.1    8.2\n",
              "4         1    1      5        9.8        8.0    20.3   23.0    8.2\n",
              "..      ...  ...    ...        ...        ...     ...    ...    ...\n",
              "195       0    0     46       21.4       18.0    41.2   46.2   18.7\n",
              "196       0    0     47       21.7       17.1    41.7   47.2   19.6\n",
              "197       0    0     48       21.9       17.2    42.6   47.4   19.5\n",
              "198       0    0     49       22.5       17.2    43.0   48.7   19.8\n",
              "199       0    0     50       23.1       20.2    46.2   52.5   21.1\n",
              "\n",
              "[200 rows x 8 columns]"
            ],
            "text/html": [
              "\n",
              "  <div id=\"df-149ed2a4-403c-430c-9881-4aade8f3c200\">\n",
              "    <div class=\"colab-df-container\">\n",
              "      <div>\n",
              "<style scoped>\n",
              "    .dataframe tbody tr th:only-of-type {\n",
              "        vertical-align: middle;\n",
              "    }\n",
              "\n",
              "    .dataframe tbody tr th {\n",
              "        vertical-align: top;\n",
              "    }\n",
              "\n",
              "    .dataframe thead th {\n",
              "        text-align: right;\n",
              "    }\n",
              "</style>\n",
              "<table border=\"1\" class=\"dataframe\">\n",
              "  <thead>\n",
              "    <tr style=\"text-align: right;\">\n",
              "      <th></th>\n",
              "      <th>speies</th>\n",
              "      <th>sex</th>\n",
              "      <th>index</th>\n",
              "      <th>fontallip</th>\n",
              "      <th>rearwidth</th>\n",
              "      <th>length</th>\n",
              "      <th>width</th>\n",
              "      <th>depth</th>\n",
              "    </tr>\n",
              "  </thead>\n",
              "  <tbody>\n",
              "    <tr>\n",
              "      <th>0</th>\n",
              "      <td>1</td>\n",
              "      <td>1</td>\n",
              "      <td>1</td>\n",
              "      <td>8.1</td>\n",
              "      <td>6.7</td>\n",
              "      <td>16.1</td>\n",
              "      <td>19.0</td>\n",
              "      <td>7.0</td>\n",
              "    </tr>\n",
              "    <tr>\n",
              "      <th>1</th>\n",
              "      <td>1</td>\n",
              "      <td>1</td>\n",
              "      <td>2</td>\n",
              "      <td>8.8</td>\n",
              "      <td>7.7</td>\n",
              "      <td>18.1</td>\n",
              "      <td>20.8</td>\n",
              "      <td>7.4</td>\n",
              "    </tr>\n",
              "    <tr>\n",
              "      <th>2</th>\n",
              "      <td>1</td>\n",
              "      <td>1</td>\n",
              "      <td>3</td>\n",
              "      <td>9.2</td>\n",
              "      <td>7.8</td>\n",
              "      <td>19.0</td>\n",
              "      <td>22.4</td>\n",
              "      <td>7.7</td>\n",
              "    </tr>\n",
              "    <tr>\n",
              "      <th>3</th>\n",
              "      <td>1</td>\n",
              "      <td>1</td>\n",
              "      <td>4</td>\n",
              "      <td>9.6</td>\n",
              "      <td>7.9</td>\n",
              "      <td>20.1</td>\n",
              "      <td>23.1</td>\n",
              "      <td>8.2</td>\n",
              "    </tr>\n",
              "    <tr>\n",
              "      <th>4</th>\n",
              "      <td>1</td>\n",
              "      <td>1</td>\n",
              "      <td>5</td>\n",
              "      <td>9.8</td>\n",
              "      <td>8.0</td>\n",
              "      <td>20.3</td>\n",
              "      <td>23.0</td>\n",
              "      <td>8.2</td>\n",
              "    </tr>\n",
              "    <tr>\n",
              "      <th>...</th>\n",
              "      <td>...</td>\n",
              "      <td>...</td>\n",
              "      <td>...</td>\n",
              "      <td>...</td>\n",
              "      <td>...</td>\n",
              "      <td>...</td>\n",
              "      <td>...</td>\n",
              "      <td>...</td>\n",
              "    </tr>\n",
              "    <tr>\n",
              "      <th>195</th>\n",
              "      <td>0</td>\n",
              "      <td>0</td>\n",
              "      <td>46</td>\n",
              "      <td>21.4</td>\n",
              "      <td>18.0</td>\n",
              "      <td>41.2</td>\n",
              "      <td>46.2</td>\n",
              "      <td>18.7</td>\n",
              "    </tr>\n",
              "    <tr>\n",
              "      <th>196</th>\n",
              "      <td>0</td>\n",
              "      <td>0</td>\n",
              "      <td>47</td>\n",
              "      <td>21.7</td>\n",
              "      <td>17.1</td>\n",
              "      <td>41.7</td>\n",
              "      <td>47.2</td>\n",
              "      <td>19.6</td>\n",
              "    </tr>\n",
              "    <tr>\n",
              "      <th>197</th>\n",
              "      <td>0</td>\n",
              "      <td>0</td>\n",
              "      <td>48</td>\n",
              "      <td>21.9</td>\n",
              "      <td>17.2</td>\n",
              "      <td>42.6</td>\n",
              "      <td>47.4</td>\n",
              "      <td>19.5</td>\n",
              "    </tr>\n",
              "    <tr>\n",
              "      <th>198</th>\n",
              "      <td>0</td>\n",
              "      <td>0</td>\n",
              "      <td>49</td>\n",
              "      <td>22.5</td>\n",
              "      <td>17.2</td>\n",
              "      <td>43.0</td>\n",
              "      <td>48.7</td>\n",
              "      <td>19.8</td>\n",
              "    </tr>\n",
              "    <tr>\n",
              "      <th>199</th>\n",
              "      <td>0</td>\n",
              "      <td>0</td>\n",
              "      <td>50</td>\n",
              "      <td>23.1</td>\n",
              "      <td>20.2</td>\n",
              "      <td>46.2</td>\n",
              "      <td>52.5</td>\n",
              "      <td>21.1</td>\n",
              "    </tr>\n",
              "  </tbody>\n",
              "</table>\n",
              "<p>200 rows × 8 columns</p>\n",
              "</div>\n",
              "      <button class=\"colab-df-convert\" onclick=\"convertToInteractive('df-149ed2a4-403c-430c-9881-4aade8f3c200')\"\n",
              "              title=\"Convert this dataframe to an interactive table.\"\n",
              "              style=\"display:none;\">\n",
              "        \n",
              "  <svg xmlns=\"http://www.w3.org/2000/svg\" height=\"24px\"viewBox=\"0 0 24 24\"\n",
              "       width=\"24px\">\n",
              "    <path d=\"M0 0h24v24H0V0z\" fill=\"none\"/>\n",
              "    <path d=\"M18.56 5.44l.94 2.06.94-2.06 2.06-.94-2.06-.94-.94-2.06-.94 2.06-2.06.94zm-11 1L8.5 8.5l.94-2.06 2.06-.94-2.06-.94L8.5 2.5l-.94 2.06-2.06.94zm10 10l.94 2.06.94-2.06 2.06-.94-2.06-.94-.94-2.06-.94 2.06-2.06.94z\"/><path d=\"M17.41 7.96l-1.37-1.37c-.4-.4-.92-.59-1.43-.59-.52 0-1.04.2-1.43.59L10.3 9.45l-7.72 7.72c-.78.78-.78 2.05 0 2.83L4 21.41c.39.39.9.59 1.41.59.51 0 1.02-.2 1.41-.59l7.78-7.78 2.81-2.81c.8-.78.8-2.07 0-2.86zM5.41 20L4 18.59l7.72-7.72 1.47 1.35L5.41 20z\"/>\n",
              "  </svg>\n",
              "      </button>\n",
              "      \n",
              "  <style>\n",
              "    .colab-df-container {\n",
              "      display:flex;\n",
              "      flex-wrap:wrap;\n",
              "      gap: 12px;\n",
              "    }\n",
              "\n",
              "    .colab-df-convert {\n",
              "      background-color: #E8F0FE;\n",
              "      border: none;\n",
              "      border-radius: 50%;\n",
              "      cursor: pointer;\n",
              "      display: none;\n",
              "      fill: #1967D2;\n",
              "      height: 32px;\n",
              "      padding: 0 0 0 0;\n",
              "      width: 32px;\n",
              "    }\n",
              "\n",
              "    .colab-df-convert:hover {\n",
              "      background-color: #E2EBFA;\n",
              "      box-shadow: 0px 1px 2px rgba(60, 64, 67, 0.3), 0px 1px 3px 1px rgba(60, 64, 67, 0.15);\n",
              "      fill: #174EA6;\n",
              "    }\n",
              "\n",
              "    [theme=dark] .colab-df-convert {\n",
              "      background-color: #3B4455;\n",
              "      fill: #D2E3FC;\n",
              "    }\n",
              "\n",
              "    [theme=dark] .colab-df-convert:hover {\n",
              "      background-color: #434B5C;\n",
              "      box-shadow: 0px 1px 3px 1px rgba(0, 0, 0, 0.15);\n",
              "      filter: drop-shadow(0px 1px 2px rgba(0, 0, 0, 0.3));\n",
              "      fill: #FFFFFF;\n",
              "    }\n",
              "  </style>\n",
              "\n",
              "      <script>\n",
              "        const buttonEl =\n",
              "          document.querySelector('#df-149ed2a4-403c-430c-9881-4aade8f3c200 button.colab-df-convert');\n",
              "        buttonEl.style.display =\n",
              "          google.colab.kernel.accessAllowed ? 'block' : 'none';\n",
              "\n",
              "        async function convertToInteractive(key) {\n",
              "          const element = document.querySelector('#df-149ed2a4-403c-430c-9881-4aade8f3c200');\n",
              "          const dataTable =\n",
              "            await google.colab.kernel.invokeFunction('convertToInteractive',\n",
              "                                                     [key], {});\n",
              "          if (!dataTable) return;\n",
              "\n",
              "          const docLinkHtml = 'Like what you see? Visit the ' +\n",
              "            '<a target=\"_blank\" href=https://colab.research.google.com/notebooks/data_table.ipynb>data table notebook</a>'\n",
              "            + ' to learn more about interactive tables.';\n",
              "          element.innerHTML = '';\n",
              "          dataTable['output_type'] = 'display_data';\n",
              "          await google.colab.output.renderOutput(dataTable, element);\n",
              "          const docLink = document.createElement('div');\n",
              "          docLink.innerHTML = docLinkHtml;\n",
              "          element.appendChild(docLink);\n",
              "        }\n",
              "      </script>\n",
              "    </div>\n",
              "  </div>\n",
              "  "
            ]
          },
          "metadata": {},
          "execution_count": 69
        },
        {
          "output_type": "display_data",
          "data": {
            "text/plain": [
              "<Figure size 432x288 with 6 Axes>"
            ],
            "image/png": "[encoded data removed]"
          },
          "metadata": {
            "needs_background": "light"
          }
        }
      ]
    },
    {
      "cell_type": "code",
      "source": [
        "\n",
        "from sklearn.linear_model import Perceptron\n",
        "from sklearn import datasets\n",
        "from sklearn.model_selection import train_test_split\n",
        "from sklearn.metrics import accuracy_score\n",
        "from sklearn.preprocessing import StandardScaler   \n",
        "\n",
        "fontallip = DataFrame[data1['fontallip']].data\n",
        "rearwidth = data1['rearwidth'].datasets\n",
        "length = data1['length'].datasets\n",
        "width = data1['width'].datasets\n",
        "depth = data1['depth'].datasets\n",
        "y=data1['sex'].target\n",
        "\n",
        "\n",
        "\n",
        "\n",
        "# one hot encoding\n",
        "speies_train,speies_test,fontallip_train,fontallip_test,rearwidth_train,rearwidth_test,length_train,length_test,width_train,width_test,depth_train,depth_test\n",
        "y_train,y_test=train_test_split(y,test_size=0.3)\n",
        "sc=StandardScaler()\n",
        "sc.fit(X_train)\n",
        "X_train_std = sc.transform(X_train)\n",
        "X_test_std = sc.transform(X_test)\n",
        "print(X_train_std[:5],X_train[:5])\n",
        "print(y[:5])\n",
        "model = Perceptron(max_iter=4000,eta0=0.9,random_state=0)   \n",
        "#max_iter : số lần học\n",
        "#eta0 : tốc độ học\n",
        "#random_state : trạng thái lấy giá trị ngẫu nhiên\n",
        "model.fit(X_train_std,y_train)\n",
        "y_perd = model.predict(X_test_std)\n",
        "print(y_perd)\n",
        "print(y_test)\n",
        "print('độ chính xác của mô hình:',accuracy_score(y_test,y_perd))"
      ],
      "metadata": {
        "colab": {
          "base_uri": "https://localhost:8080/",
          "height": 235
        },
        "id": "6Pqn8kRyD8Ky",
        "outputId": "0827b928-2b00-4c8d-c7dc-127f3bc8923d"
      },
      "execution_count": 82,
      "outputs": [
        {
          "output_type": "error",
          "ename": "NameError",
          "evalue": "ignored",
          "traceback": [
            "\u001b[0;31m---------------------------------------------------------------------------\u001b[0m",
            "\u001b[0;31mNameError\u001b[0m                                 Traceback (most recent call last)",
            "\u001b[0;32m<ipython-input-82-51fade164ad0>\u001b[0m in \u001b[0;36m<module>\u001b[0;34m\u001b[0m\n\u001b[1;32m      5\u001b[0m \u001b[0;32mfrom\u001b[0m \u001b[0msklearn\u001b[0m\u001b[0;34m.\u001b[0m\u001b[0mpreprocessing\u001b[0m \u001b[0;32mimport\u001b[0m \u001b[0mStandardScaler\u001b[0m\u001b[0;34m\u001b[0m\u001b[0;34m\u001b[0m\u001b[0m\n\u001b[1;32m      6\u001b[0m \u001b[0;34m\u001b[0m\u001b[0m\n\u001b[0;32m----> 7\u001b[0;31m \u001b[0mfontallip\u001b[0m \u001b[0;34m=\u001b[0m \u001b[0mDataFrame\u001b[0m\u001b[0;34m[\u001b[0m\u001b[0mdata1\u001b[0m\u001b[0;34m[\u001b[0m\u001b[0;34m'fontallip'\u001b[0m\u001b[0;34m]\u001b[0m\u001b[0;34m]\u001b[0m\u001b[0;34m.\u001b[0m\u001b[0mdata\u001b[0m\u001b[0;34m\u001b[0m\u001b[0;34m\u001b[0m\u001b[0m\n\u001b[0m\u001b[1;32m      8\u001b[0m \u001b[0mrearwidth\u001b[0m \u001b[0;34m=\u001b[0m \u001b[0mdata1\u001b[0m\u001b[0;34m[\u001b[0m\u001b[0;34m'rearwidth'\u001b[0m\u001b[0;34m]\u001b[0m\u001b[0;34m.\u001b[0m\u001b[0mdatasets\u001b[0m\u001b[0;34m\u001b[0m\u001b[0;34m\u001b[0m\u001b[0m\n\u001b[1;32m      9\u001b[0m \u001b[0mlength\u001b[0m \u001b[0;34m=\u001b[0m \u001b[0mdata1\u001b[0m\u001b[0;34m[\u001b[0m\u001b[0;34m'length'\u001b[0m\u001b[0;34m]\u001b[0m\u001b[0;34m.\u001b[0m\u001b[0mdatasets\u001b[0m\u001b[0;34m\u001b[0m\u001b[0;34m\u001b[0m\u001b[0m\n",
            "\u001b[0;31mNameError\u001b[0m: name 'DataFrame' is not defined"
          ]
        }
      ]
    }
  ]
}