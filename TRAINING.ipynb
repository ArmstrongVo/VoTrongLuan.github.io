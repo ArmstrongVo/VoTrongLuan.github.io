{
  "nbformat": 4,
  "nbformat_minor": 0,
  "metadata": {
    "colab": {
      "provenance": [],
      "gpuType": "T4",
      "mount_file_id": "1WFnyqQSX8vXQNzcf0echetIf_bBCpLRx",
      "authorship_tag": "ABX9TyOGGku++UOrexGNc3Km4fvO",
      "include_colab_link": true
    },
    "kernelspec": {
      "name": "python3",
      "display_name": "Python 3"
    },
    "language_info": {
      "name": "python"
    },
    "accelerator": "GPU",
    "gpuClass": "standard"
  },
  "cells": [
    {
      "cell_type": "markdown",
      "metadata": {
        "id": "view-in-github",
        "colab_type": "text"
      },
      "source": [
        "<a href=\"https://colab.research.google.com/github/ArmstrongVo/VoTrongLuan.github.io/blob/main/TRAINING.ipynb\" target=\"_parent\"><img src=\"https://colab.research.google.com/assets/colab-badge.svg\" alt=\"Open In Colab\"/></a>"
      ]
    },
    {
      "cell_type": "code",
      "execution_count": 7,
      "metadata": {
        "id": "fwZGq_2Wwg-M"
      },
      "outputs": [],
      "source": [
        "# import libraries\n",
        "import keras\n",
        "import cv2\n",
        "import tensorflow as tf\n",
        "from keras.models import Sequential\n",
        "from glob import glob\n",
        "from keras.layers import Dense, Dropout, Flatten,Activation\n",
        "from keras.layers import Conv2D, MaxPooling2D, Conv3D, BatchNormalization\n",
        "from keras.layers import LeakyReLU\n",
        "\n",
        "from tensorflow.keras.preprocessing.image import ImageDataGenerator, load_img,img_to_array\n",
        "import matplotlib.pyplot as plt\n",
        "from tensorflow.keras.preprocessing.image import load_img\n",
        "from tensorflow.keras.preprocessing.image import img_to_array\n",
        "from tensorflow.keras.preprocessing.image import array_to_img\n",
        "import numpy as np\n",
        "import matplotlib.pyplot as plt"
      ]
    },
    {
      "cell_type": "code",
      "source": [
        "# access to data\n",
        "test='/content/drive/MyDrive/DATA FOR AI/PNEUMONIA/TEST'\n",
        "train='/content/drive/MyDrive/DATA FOR AI/PNEUMONIA/TRAIN'"
      ],
      "metadata": {
        "id": "oaOamn3DzEE9"
      },
      "execution_count": 8,
      "outputs": []
    },
    {
      "cell_type": "code",
      "source": [
        "# để hệ thống đạt được độ chính xác cao nhất\n",
        "# tiến hành pre-processing sử dụng kỹ thuật data agumentation\n",
        "def equalize_histogram(image):   \n",
        "    # chuẩn hóa độ sáng trong khoảng [0-1] : tối ưu độ sáng và chi tiết trong ảnh\n",
        "    image = image.astype(np.float32) / 255.0\n",
        "   \n",
        "    # kiểm tra nếu hình ảnh có nhiều hơn 2 chiều thì chuyển đổi sang ảnh xám\n",
        "    if len(image.shape) > 2:  \n",
        "        image = cv2.cvtColor(image, cv2.COLOR_BGR2GRAY)\n",
        "     # Kiểm tra kiểu dữ liệu ảnh\n",
        "    if image.dtype != np.uint8:\n",
        "        image = image.astype(np.uint8)\n",
        "    # Cân bằng histogram \n",
        "    equalized_image = cv2.equalizeHist(image)\n",
        "    equalized_image = np.expand_dims(equalized_image, axis=-1)\n",
        "    \n",
        "    return equalized_image\n",
        "\n",
        "# thiết lập các thông số cho data augmentation\n",
        "# cân bằng histogram\n",
        "# xoay ảnh\n",
        "# lật chiều ngang\n",
        "# lật dọc\n",
        "# phóng to hoặc thu nhỏ\n",
        "train_augen = ImageDataGenerator(preprocessing_function=equalize_histogram,\n",
        "                                   rotation_range=0.2, \n",
        "                                   horizontal_flip=True,\n",
        "                                   vertical_flip=True,\n",
        "                                   zoom_range=0.2)\n",
        "\n",
        "test_augen = ImageDataGenerator(preprocessing_function=equalize_histogram,\n",
        "                                   rotation_range=0.2, \n",
        "                                   horizontal_flip=True,\n",
        "                                   vertical_flip=True,\n",
        "                                   zoom_range=0.2)\n",
        "# data augumentation\n",
        "train_set = train_augen.flow_from_directory(train,\n",
        "                                                 target_size=(64, 64),\n",
        "                                                 batch_size=16,\n",
        "                                                 class_mode='categorical')\n",
        "test_set = test_augen.flow_from_directory(test,\n",
        "                                            target_size=(64, 64),\n",
        "                                            batch_size=8,\n",
        "                                            class_mode='categorical')\n"
      ],
      "metadata": {
        "colab": {
          "base_uri": "https://localhost:8080/"
        },
        "id": "XE0wkomJ8GWL",
        "outputId": "53b41f95-09b2-4f90-9547-6fec8058583c"
      },
      "execution_count": 10,
      "outputs": [
        {
          "output_type": "stream",
          "name": "stdout",
          "text": [
            "Found 5478 images belonging to 3 classes.\n",
            "Found 370 images belonging to 3 classes.\n"
          ]
        }
      ]
    },
    {
      "cell_type": "code",
      "source": [
        "# cấu trúc CNN\n",
        "model = Sequential()\n",
        "model.add(Conv2D(64, kernel_size=(3,3), activation='relu', input_shape=(64, 64,1)))\n",
        "model.add(MaxPooling2D(pool_size=(2,2)))\n",
        "\n",
        "model.add(Conv2D(32, kernel_size=(3,3), activation='relu'))\n",
        "model.add(MaxPooling2D(pool_size=(2,2)))\n",
        "\n",
        "model.add(Conv2D(16, kernel_size=(3,3), activation='relu'))\n",
        "model.add(MaxPooling2D(pool_size=(2,2)))\n",
        "\n",
        "model.add(Conv2D(8, kernel_size=(3,3), activation='relu'))\n",
        "model.add(MaxPooling2D(pool_size=(2,2)))\n",
        "\n",
        "model.add(Flatten())\n",
        "model.add(Activation(\"relu\"))\n",
        "model.add(Dense(1024))\n",
        "model.add(Dropout(0.4))\n",
        "model.add(Dense(3))\n",
        "model.add(Activation(\"softmax\"))\n",
        "\n",
        "model.summary()"
      ],
      "metadata": {
        "colab": {
          "base_uri": "https://localhost:8080/"
        },
        "id": "TNFM7J_NEnXk",
        "outputId": "64e5dfbb-d595-4bf4-de0f-fd51bacfebe2"
      },
      "execution_count": 11,
      "outputs": [
        {
          "output_type": "stream",
          "name": "stdout",
          "text": [
            "Model: \"sequential\"\n",
            "_________________________________________________________________\n",
            " Layer (type)                Output Shape              Param #   \n",
            "=================================================================\n",
            " conv2d (Conv2D)             (None, 62, 62, 64)        640       \n",
            "                                                                 \n",
            " max_pooling2d (MaxPooling2D  (None, 31, 31, 64)       0         \n",
            " )                                                               \n",
            "                                                                 \n",
            " conv2d_1 (Conv2D)           (None, 29, 29, 32)        18464     \n",
            "                                                                 \n",
            " max_pooling2d_1 (MaxPooling  (None, 14, 14, 32)       0         \n",
            " 2D)                                                             \n",
            "                                                                 \n",
            " conv2d_2 (Conv2D)           (None, 12, 12, 16)        4624      \n",
            "                                                                 \n",
            " max_pooling2d_2 (MaxPooling  (None, 6, 6, 16)         0         \n",
            " 2D)                                                             \n",
            "                                                                 \n",
            " conv2d_3 (Conv2D)           (None, 4, 4, 8)           1160      \n",
            "                                                                 \n",
            " max_pooling2d_3 (MaxPooling  (None, 2, 2, 8)          0         \n",
            " 2D)                                                             \n",
            "                                                                 \n",
            " flatten (Flatten)           (None, 32)                0         \n",
            "                                                                 \n",
            " activation (Activation)     (None, 32)                0         \n",
            "                                                                 \n",
            " dense (Dense)               (None, 1024)              33792     \n",
            "                                                                 \n",
            " dropout (Dropout)           (None, 1024)              0         \n",
            "                                                                 \n",
            " dense_1 (Dense)             (None, 3)                 3075      \n",
            "                                                                 \n",
            " activation_1 (Activation)   (None, 3)                 0         \n",
            "                                                                 \n",
            "=================================================================\n",
            "Total params: 61,755\n",
            "Trainable params: 61,755\n",
            "Non-trainable params: 0\n",
            "_________________________________________________________________\n"
          ]
        }
      ]
    },
    {
      "cell_type": "code",
      "source": [
        "# compile mô hình\n",
        "model.compile(optimizer='adam', loss='categorical_crossentropy', metrics=['accuracy'])\n",
        "\n",
        "training_model = model.fit(train_set,\n",
        "                    steps_per_epoch=5478//16,\n",
        "                    epochs=100,\n",
        "                    validation_data=test_set,\n",
        "                    validation_steps=370//8)\n",
        "\n",
        "history=model.fit(train_set,epochs=30,batch_size=128,verbose=1)                   "
      ],
      "metadata": {
        "id": "Ot3FfCMvKVlb"
      },
      "execution_count": null,
      "outputs": []
    }
  ]
}