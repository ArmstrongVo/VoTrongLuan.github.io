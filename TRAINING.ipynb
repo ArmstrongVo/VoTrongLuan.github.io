{
  "nbformat": 4,
  "nbformat_minor": 0,
  "metadata": {
    "colab": {
      "provenance": [],
      "gpuType": "T4",
      "mount_file_id": "1WFnyqQSX8vXQNzcf0echetIf_bBCpLRx",
      "authorship_tag": "ABX9TyOY6x281TrzPVYGl/ftlEYL",
      "include_colab_link": true
    },
    "kernelspec": {
      "name": "python3",
      "display_name": "Python 3"
    },
    "language_info": {
      "name": "python"
    },
    "accelerator": "GPU",
    "gpuClass": "standard"
  },
  "cells": [
    {
      "cell_type": "markdown",
      "metadata": {
        "id": "view-in-github",
        "colab_type": "text"
      },
      "source": [
        "<a href=\"https://colab.research.google.com/github/ArmstrongVo/VoTrongLuan.github.io/blob/main/TRAINING.ipynb\" target=\"_parent\"><img src=\"https://colab.research.google.com/assets/colab-badge.svg\" alt=\"Open In Colab\"/></a>"
      ]
    },
    {
      "cell_type": "code",
      "execution_count": 5,
      "metadata": {
        "id": "fwZGq_2Wwg-M"
      },
      "outputs": [],
      "source": [
        "# import libraries\n",
        "import keras\n",
        "import cv2\n",
        "import tensorflow as tf\n",
        "from keras.models import Sequential\n",
        "from glob import glob\n",
        "from keras.layers import Dense, Dropout, Flatten,Activation\n",
        "from keras.layers import Conv2D, MaxPooling2D, Conv3D, BatchNormalization\n",
        "from tensorflow.keras.preprocessing.image import ImageDataGenerator, load_img,img_to_array\n",
        "import matplotlib.pyplot as plt\n",
        "from tensorflow.keras.preprocessing.image import load_img\n",
        "from tensorflow.keras.preprocessing.image import img_to_array\n",
        "from tensorflow.keras.preprocessing.image import array_to_img\n",
        "import numpy as np\n",
        "import matplotlib.pyplot as plt"
      ]
    },
    {
      "cell_type": "code",
      "source": [],
      "metadata": {
        "id": "q9Tu3Prvy16L"
      },
      "execution_count": null,
      "outputs": []
    },
    {
      "cell_type": "code",
      "source": [
        "# access to data\n",
        "test='/content/drive/MyDrive/DATA FOR AI/PNEUMONIA/TEST'\n",
        "train='/content/drive/MyDrive/DATA FOR AI/PNEUMONIA/TRAIN'"
      ],
      "metadata": {
        "id": "oaOamn3DzEE9"
      },
      "execution_count": 6,
      "outputs": []
    },
    {
      "cell_type": "code",
      "source": [
        "# để hệ thống đạt được độ chính xác cao nhất\n",
        "# tiến hành pre-processing sử dụng kỹ thuật data agumentation\n",
        "def equalize_histogram(image):   \n",
        "    # chuẩn hóa độ sáng trong khoảng [0-1] : tối ưu độ sáng và chi tiết trong ảnh\n",
        "    image = image.astype(np.float32) / 255.0\n",
        "   \n",
        "    # kiểm tra nếu hình ảnh có nhiều hơn 2 chiều thì chuyển đổi sang ảnh xám\n",
        "    if len(image.shape) > 2:  \n",
        "        image = cv2.cvtColor(image, cv2.COLOR_BGR2GRAY)\n",
        "    \n",
        "    # Cân bằng histogram \n",
        "    equalized_image = cv2.equalizeHist(image)\n",
        "    \n",
        "    return equalized_image\n",
        "\n",
        "# thiết lập các thông số cho data augmentation\n",
        "# cân bằng histogram\n",
        "# xoay ảnh\n",
        "# lật chiều ngang\n",
        "# lật dọc\n",
        "# phóng to hoặc thu nhỏ\n",
        "train_augen = ImageDataGenerator(preprocessing_function=equalize_histogram,\n",
        "                                   rotation_range=0.2, \n",
        "                                   horizontal_flip=True,\n",
        "                                   vertical_flip=True,\n",
        "                                   zoom_range=0.2)\n",
        "\n",
        "test_augen = ImageDataGenerator(  preprocessing_function=equalize_histogram,\n",
        "                                   rotation_range=0.2, \n",
        "                                   horizontal_flip=True,\n",
        "                                   vertical_flip=True,\n",
        "                                   zoom_range=0.2)\n",
        "# data augumentation\n",
        "train_set = train_augen.flow_from_directory(train,\n",
        "                                                 target_size=(64, 64),\n",
        "                                                 batch_size=10,\n",
        "                                                 class_mode='categorical')\n",
        "test_set = test_augen.flow_from_directory(test,\n",
        "                                            target_size=(64, 64),\n",
        "                                            batch_size=10,\n",
        "                                            class_mode='categorical')\n",
        "\n",
        "\n"
      ],
      "metadata": {
        "colab": {
          "base_uri": "https://localhost:8080/"
        },
        "id": "XE0wkomJ8GWL",
        "outputId": "a537d0cd-c6bd-4c4b-b045-bd73c1b0f5fd"
      },
      "execution_count": 7,
      "outputs": [
        {
          "output_type": "stream",
          "name": "stdout",
          "text": [
            "Found 5478 images belonging to 3 classes.\n",
            "Found 370 images belonging to 3 classes.\n"
          ]
        }
      ]
    }
  ]
}