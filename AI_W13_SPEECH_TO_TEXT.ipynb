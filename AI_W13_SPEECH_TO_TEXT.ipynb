{
  "nbformat": 4,
  "nbformat_minor": 0,
  "metadata": {
    "colab": {
      "provenance": [],
      "mount_file_id": "1zF1SAaygJ61xc7oDbs3pzKXQlE9_26kL",
      "authorship_tag": "ABX9TyM4fmh6LZqXSRD46C2PUBKT",
      "include_colab_link": true
    },
    "kernelspec": {
      "name": "python3",
      "display_name": "Python 3"
    },
    "language_info": {
      "name": "python"
    },
    "accelerator": "GPU",
    "gpuClass": "standard"
  },
  "cells": [
    {
      "cell_type": "markdown",
      "metadata": {
        "id": "view-in-github",
        "colab_type": "text"
      },
      "source": [
        "<a href=\"https://colab.research.google.com/github/ArmstrongVo/VoTrongLuan.github.io/blob/main/AI_W13_SPEECH_TO_TEXT.ipynb\" target=\"_parent\"><img src=\"https://colab.research.google.com/assets/colab-badge.svg\" alt=\"Open In Colab\"/></a>"
      ]
    },
    {
      "cell_type": "code",
      "execution_count": 5,
      "metadata": {
        "colab": {
          "base_uri": "https://localhost:8080/"
        },
        "id": "SVaJP9nHEhEd",
        "outputId": "8875cfeb-190f-445d-9c4f-f83351760f5f"
      },
      "outputs": [
        {
          "output_type": "stream",
          "name": "stdout",
          "text": [
            "Looking in indexes: https://pypi.org/simple, https://us-python.pkg.dev/colab-wheels/public/simple/\n",
            "Requirement already satisfied: SpeechRecognition in /usr/local/lib/python3.9/dist-packages (3.10.0)\n",
            "Requirement already satisfied: pydub in /usr/local/lib/python3.9/dist-packages (0.25.1)\n",
            "Requirement already satisfied: requests>=2.26.0 in /usr/local/lib/python3.9/dist-packages (from SpeechRecognition) (2.27.1)\n",
            "Requirement already satisfied: urllib3<1.27,>=1.21.1 in /usr/local/lib/python3.9/dist-packages (from requests>=2.26.0->SpeechRecognition) (1.26.15)\n",
            "Requirement already satisfied: certifi>=2017.4.17 in /usr/local/lib/python3.9/dist-packages (from requests>=2.26.0->SpeechRecognition) (2022.12.7)\n",
            "Requirement already satisfied: charset-normalizer~=2.0.0 in /usr/local/lib/python3.9/dist-packages (from requests>=2.26.0->SpeechRecognition) (2.0.12)\n",
            "Requirement already satisfied: idna<4,>=2.5 in /usr/local/lib/python3.9/dist-packages (from requests>=2.26.0->SpeechRecognition) (3.4)\n"
          ]
        }
      ],
      "source": [
        "pip install SpeechRecognition pydub"
      ]
    },
    {
      "cell_type": "code",
      "source": [
        "file='/content/drive/MyDrive/DATA FOR AI/SPEECH/language/chinesestory.wav'   #file tiếng anh là mặc định\n",
        "\n",
        "import speech_recognition as sr\n",
        "r=sr.Recognizer()\n",
        "with sr.AudioFile(file) as source :\n",
        "  audio_data = r.record(source)\n",
        "  text = r.recognize_google(audio_data,language='zh-CN')\n",
        "  print(text)"
      ],
      "metadata": {
        "colab": {
          "base_uri": "https://localhost:8080/"
        },
        "id": "qb_PK-q3FH_q",
        "outputId": "50e17bc5-e831-4389-f77b-9a2af62c672c"
      },
      "execution_count": 6,
      "outputs": [
        {
          "output_type": "stream",
          "name": "stdout",
          "text": [
            "我知道很多正在学习中文的朋友都喜欢读拼音非常依赖拼音有的人那中文更好一些所以非常依赖读汉字其实当你在学习任何语言英语法语中文的时候你的耳朵非常非常的重要不然\n"
          ]
        }
      ]
    },
    {
      "cell_type": "code",
      "source": [
        "with sr.AudioFile('/content/drive/MyDrive/DATA FOR AI/MUSIC /music/nhat.wav') as source:\n",
        "  audio1=r.record(source,duration=4)\n",
        "  audio2=r.record(source,offset=4,duration=10)\n",
        "print(r.recognize_google(audio1,language='ja'))   # chia đoạn hội thoại thành 2 phân vùng để xử lý khi có các khoảng trống hoặc \n",
        "print(r.recognize_google(audio2,language='ja'))   # các ngôn ngữ khác nhau trong 1 đoạn "
      ],
      "metadata": {
        "colab": {
          "base_uri": "https://localhost:8080/"
        },
        "id": "_FVOLl1yMqaw",
        "outputId": "295494b5-e062-4a52-b7de-38ca65f590ef"
      },
      "execution_count": 12,
      "outputs": [
        {
          "output_type": "stream",
          "name": "stdout",
          "text": [
            "についてよね\n",
            "キラキラキラキラしないで離れてても何もしてても君がいる\n"
          ]
        }
      ]
    },
    {
      "cell_type": "code",
      "source": [],
      "metadata": {
        "id": "iWUwog_RP7mc"
      },
      "execution_count": null,
      "outputs": []
    }
  ]
}