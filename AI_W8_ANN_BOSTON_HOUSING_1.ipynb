{
  "nbformat": 4,
  "nbformat_minor": 0,
  "metadata": {
    "colab": {
      "provenance": [],
      "authorship_tag": "ABX9TyNSlsX4YGjbiBHql7XDeRHP",
      "include_colab_link": true
    },
    "kernelspec": {
      "name": "python3",
      "display_name": "Python 3"
    },
    "language_info": {
      "name": "python"
    }
  },
  "cells": [
    {
      "cell_type": "markdown",
      "metadata": {
        "id": "view-in-github",
        "colab_type": "text"
      },
      "source": [
        "<a href=\"https://colab.research.google.com/github/ArmstrongVo/VoTrongLuan.github.io/blob/main/AI_W8_ANN_BOSTON_HOUSING_1.ipynb\" target=\"_parent\"><img src=\"https://colab.research.google.com/assets/colab-badge.svg\" alt=\"Open In Colab\"/></a>"
      ]
    },
    {
      "cell_type": "code",
      "execution_count": 14,
      "metadata": {
        "colab": {
          "base_uri": "https://localhost:8080/"
        },
        "id": "A8LpjNeNqZZt",
        "outputId": "872c13a0-a6e8-45c2-d328-5bf10d6fa48a"
      },
      "outputs": [
        {
          "output_type": "stream",
          "name": "stdout",
          "text": [
            "(404, 13)\n",
            "(404,)\n",
            "(102, 13)\n",
            "(102, 13)\n"
          ]
        }
      ],
      "source": [
        " from keras.datasets import boston_housing\n",
        " (x_train,y_train),(x_test,y_test)=boston_housing.load_data()\n",
        " print(x_train.shape)\n",
        " print(y_train.shape)\n",
        " print(x_test.shape)\n",
        " print(x_test.shape)\n",
        "\n",
        " "
      ]
    },
    {
      "cell_type": "code",
      "source": [
        "from sklearn.preprocessing import StandardScaler   \n",
        "sc=StandardScaler()\n",
        "sc.fit(x_train)\n",
        "x_train = sc.transform(x_train)\n",
        "x_test = sc.transform(x_test)\n",
        "print(x_train[:5],x_train[:5])\n"
      ],
      "metadata": {
        "colab": {
          "base_uri": "https://localhost:8080/"
        },
        "id": "HnIw4fOqqjv-",
        "outputId": "cc182673-5db6-4d63-f2ce-e945bed5a081"
      },
      "execution_count": 17,
      "outputs": [
        {
          "output_type": "stream",
          "name": "stdout",
          "text": [
            "[[-0.27224633 -0.48361547 -0.43576161 -0.25683275 -0.1652266  -0.1764426\n",
            "   0.81306188  0.1166983  -0.62624905 -0.59517003  1.14850044  0.44807713\n",
            "   0.8252202 ]\n",
            " [-0.40342651  2.99178419 -1.33391162 -0.25683275 -1.21518188  1.89434613\n",
            "  -1.91036058  1.24758524 -0.85646254 -0.34843254 -1.71818909  0.43190599\n",
            "  -1.32920239]\n",
            " [ 0.1249402  -0.48361547  1.0283258  -0.25683275  0.62864202 -1.82968811\n",
            "   1.11048828 -1.18743907  1.67588577  1.5652875   0.78447637  0.22061726\n",
            "  -1.30850006]\n",
            " [-0.40149354 -0.48361547 -0.86940196 -0.25683275 -0.3615597  -0.3245576\n",
            "  -1.23667187  1.10717989 -0.51114231 -1.094663    0.78447637  0.44807713\n",
            "  -0.65292624]\n",
            " [-0.0056343  -0.48361547  1.0283258  -0.25683275  1.32861221  0.15364225\n",
            "   0.69480801 -0.57857203  1.67588577  1.5652875   0.78447637  0.3898823\n",
            "   0.26349695]] [[-0.27224633 -0.48361547 -0.43576161 -0.25683275 -0.1652266  -0.1764426\n",
            "   0.81306188  0.1166983  -0.62624905 -0.59517003  1.14850044  0.44807713\n",
            "   0.8252202 ]\n",
            " [-0.40342651  2.99178419 -1.33391162 -0.25683275 -1.21518188  1.89434613\n",
            "  -1.91036058  1.24758524 -0.85646254 -0.34843254 -1.71818909  0.43190599\n",
            "  -1.32920239]\n",
            " [ 0.1249402  -0.48361547  1.0283258  -0.25683275  0.62864202 -1.82968811\n",
            "   1.11048828 -1.18743907  1.67588577  1.5652875   0.78447637  0.22061726\n",
            "  -1.30850006]\n",
            " [-0.40149354 -0.48361547 -0.86940196 -0.25683275 -0.3615597  -0.3245576\n",
            "  -1.23667187  1.10717989 -0.51114231 -1.094663    0.78447637  0.44807713\n",
            "  -0.65292624]\n",
            " [-0.0056343  -0.48361547  1.0283258  -0.25683275  1.32861221  0.15364225\n",
            "   0.69480801 -0.57857203  1.67588577  1.5652875   0.78447637  0.3898823\n",
            "   0.26349695]]\n"
          ]
        }
      ]
    },
    {
      "cell_type": "code",
      "source": [
        "from keras import models\n",
        "from keras.layers import Dense\n",
        "from keras.models.cloning import Sequential\n",
        "model=Sequential()\n",
        "model.add(Dense(50,activation='relu',input_shape = (13,),name='layout1'))\n",
        "model.add(Dense(20,activation='relu',name='layout2'))\n",
        "model.add(Dense(1,activation='linear',name='layout3'))\n",
        "model.summary()"
      ],
      "metadata": {
        "colab": {
          "base_uri": "https://localhost:8080/"
        },
        "id": "uLNWqF4mvDj5",
        "outputId": "e16c55d6-f924-4591-d601-56aaf24ced9b"
      },
      "execution_count": 18,
      "outputs": [
        {
          "output_type": "stream",
          "name": "stdout",
          "text": [
            "Model: \"sequential_3\"\n",
            "_________________________________________________________________\n",
            " Layer (type)                Output Shape              Param #   \n",
            "=================================================================\n",
            " layout1 (Dense)             (None, 50)                700       \n",
            "                                                                 \n",
            " layout2 (Dense)             (None, 20)                1020      \n",
            "                                                                 \n",
            " layout3 (Dense)             (None, 1)                 21        \n",
            "                                                                 \n",
            "=================================================================\n",
            "Total params: 1,741\n",
            "Trainable params: 1,741\n",
            "Non-trainable params: 0\n",
            "_________________________________________________________________\n"
          ]
        }
      ]
    },
    {
      "cell_type": "code",
      "source": [
        "from keras.utils import to_categorical  # chuyển output sang số 1 nổi, 1 lần  \n",
        "y_train = to_categorical(y_train,404)\n",
        "y_test = to_categorical(y_test,102)\n",
        "model.compile(optimizer='Adam',loss='mean_absolute_error',metrics=['accuracy'])\n",
        "model.fit(x_train,y_train,epochs=20,validation_data=(x_test,y_test))\n"
      ],
      "metadata": {
        "colab": {
          "base_uri": "https://localhost:8080/"
        },
        "id": "ePHSmvQOwPe7",
        "outputId": "a385cea7-e225-4c52-efbc-624b029ff058"
      },
      "execution_count": 19,
      "outputs": [
        {
          "output_type": "stream",
          "name": "stdout",
          "text": [
            "Epoch 1/20\n",
            "13/13 [==============================] - 1s 18ms/step - loss: 0.4896 - accuracy: 0.9951 - val_loss: 0.2942 - val_accuracy: 0.9614\n",
            "Epoch 2/20\n",
            "13/13 [==============================] - 0s 5ms/step - loss: 0.2234 - accuracy: 0.9926 - val_loss: 0.1262 - val_accuracy: 0.9902\n",
            "Epoch 3/20\n",
            "13/13 [==============================] - 0s 6ms/step - loss: 0.1171 - accuracy: 0.9975 - val_loss: 0.0816 - val_accuracy: 0.9902\n",
            "Epoch 4/20\n",
            "13/13 [==============================] - 0s 6ms/step - loss: 0.0751 - accuracy: 0.9975 - val_loss: 0.0615 - val_accuracy: 0.9902\n",
            "Epoch 5/20\n",
            "13/13 [==============================] - 0s 7ms/step - loss: 0.0561 - accuracy: 0.9975 - val_loss: 0.0563 - val_accuracy: 0.9902\n",
            "Epoch 6/20\n",
            "13/13 [==============================] - 0s 5ms/step - loss: 0.0466 - accuracy: 0.9975 - val_loss: 0.0559 - val_accuracy: 0.9902\n",
            "Epoch 7/20\n",
            "13/13 [==============================] - 0s 5ms/step - loss: 0.0408 - accuracy: 0.9975 - val_loss: 0.0484 - val_accuracy: 0.9902\n",
            "Epoch 8/20\n",
            "13/13 [==============================] - 0s 6ms/step - loss: 0.0358 - accuracy: 0.9975 - val_loss: 0.0516 - val_accuracy: 0.9902\n",
            "Epoch 9/20\n",
            "13/13 [==============================] - 0s 5ms/step - loss: 0.0330 - accuracy: 0.9975 - val_loss: 0.0459 - val_accuracy: 0.9902\n",
            "Epoch 10/20\n",
            "13/13 [==============================] - 0s 5ms/step - loss: 0.0293 - accuracy: 0.9975 - val_loss: 0.0434 - val_accuracy: 0.9902\n",
            "Epoch 11/20\n",
            "13/13 [==============================] - 0s 6ms/step - loss: 0.0261 - accuracy: 0.9975 - val_loss: 0.0434 - val_accuracy: 0.9902\n",
            "Epoch 12/20\n",
            "13/13 [==============================] - 0s 5ms/step - loss: 0.0239 - accuracy: 0.9975 - val_loss: 0.0432 - val_accuracy: 0.9902\n",
            "Epoch 13/20\n",
            "13/13 [==============================] - 0s 6ms/step - loss: 0.0225 - accuracy: 0.9975 - val_loss: 0.0405 - val_accuracy: 0.9902\n",
            "Epoch 14/20\n",
            "13/13 [==============================] - 0s 6ms/step - loss: 0.0210 - accuracy: 0.9975 - val_loss: 0.0400 - val_accuracy: 0.9902\n",
            "Epoch 15/20\n",
            "13/13 [==============================] - 0s 5ms/step - loss: 0.0199 - accuracy: 0.9975 - val_loss: 0.0377 - val_accuracy: 0.9902\n",
            "Epoch 16/20\n",
            "13/13 [==============================] - 0s 5ms/step - loss: 0.0186 - accuracy: 0.9975 - val_loss: 0.0382 - val_accuracy: 0.9902\n",
            "Epoch 17/20\n",
            "13/13 [==============================] - 0s 5ms/step - loss: 0.0177 - accuracy: 0.9975 - val_loss: 0.0362 - val_accuracy: 0.9902\n",
            "Epoch 18/20\n",
            "13/13 [==============================] - 0s 6ms/step - loss: 0.0176 - accuracy: 0.9975 - val_loss: 0.0361 - val_accuracy: 0.9902\n",
            "Epoch 19/20\n",
            "13/13 [==============================] - 0s 5ms/step - loss: 0.0163 - accuracy: 0.9975 - val_loss: 0.0374 - val_accuracy: 0.9902\n",
            "Epoch 20/20\n",
            "13/13 [==============================] - 0s 5ms/step - loss: 0.0158 - accuracy: 0.9975 - val_loss: 0.0355 - val_accuracy: 0.9902\n"
          ]
        },
        {
          "output_type": "execute_result",
          "data": {
            "text/plain": [
              "<keras.callbacks.History at 0x7f8a48c5d9a0>"
            ]
          },
          "metadata": {},
          "execution_count": 19
        }
      ]
    }
  ]
}