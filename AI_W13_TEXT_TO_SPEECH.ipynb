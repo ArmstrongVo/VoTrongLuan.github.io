{
  "nbformat": 4,
  "nbformat_minor": 0,
  "metadata": {
    "colab": {
      "provenance": [],
      "mount_file_id": "1YlKSf3XwBe7-fafOaTVTaremzG_3gzzz",
      "authorship_tag": "ABX9TyMChOzPnXcmEbEcqsmJ45wp",
      "include_colab_link": true
    },
    "kernelspec": {
      "name": "python3",
      "display_name": "Python 3"
    },
    "language_info": {
      "name": "python"
    },
    "accelerator": "GPU",
    "gpuClass": "standard"
  },
  "cells": [
    {
      "cell_type": "markdown",
      "metadata": {
        "id": "view-in-github",
        "colab_type": "text"
      },
      "source": [
        "<a href=\"https://colab.research.google.com/github/ArmstrongVo/VoTrongLuan.github.io/blob/main/AI_W13_TEXT_TO_SPEECH.ipynb\" target=\"_parent\"><img src=\"https://colab.research.google.com/assets/colab-badge.svg\" alt=\"Open In Colab\"/></a>"
      ]
    },
    {
      "cell_type": "code",
      "execution_count": 1,
      "metadata": {
        "colab": {
          "base_uri": "https://localhost:8080/"
        },
        "id": "6FFmaoFCQARq",
        "outputId": "bfa81d40-ed94-4809-b17a-08311c5fe1ac"
      },
      "outputs": [
        {
          "output_type": "stream",
          "name": "stdout",
          "text": [
            "Looking in indexes: https://pypi.org/simple, https://us-python.pkg.dev/colab-wheels/public/simple/\n",
            "Collecting gTTS\n",
            "  Downloading gTTS-2.3.1-py3-none-any.whl (28 kB)\n",
            "Requirement already satisfied: requests<3,>=2.27 in /usr/local/lib/python3.9/dist-packages (from gTTS) (2.27.1)\n",
            "Requirement already satisfied: click<8.2,>=7.1 in /usr/local/lib/python3.9/dist-packages (from gTTS) (8.1.3)\n",
            "Requirement already satisfied: charset-normalizer~=2.0.0 in /usr/local/lib/python3.9/dist-packages (from requests<3,>=2.27->gTTS) (2.0.12)\n",
            "Requirement already satisfied: idna<4,>=2.5 in /usr/local/lib/python3.9/dist-packages (from requests<3,>=2.27->gTTS) (3.4)\n",
            "Requirement already satisfied: urllib3<1.27,>=1.21.1 in /usr/local/lib/python3.9/dist-packages (from requests<3,>=2.27->gTTS) (1.26.15)\n",
            "Requirement already satisfied: certifi>=2017.4.17 in /usr/local/lib/python3.9/dist-packages (from requests<3,>=2.27->gTTS) (2022.12.7)\n",
            "Installing collected packages: gTTS\n",
            "Successfully installed gTTS-2.3.1\n"
          ]
        }
      ],
      "source": [
        "pip install gTTS\n"
      ]
    },
    {
      "cell_type": "code",
      "source": [
        "from gtts import gTTS     # đổi tên hoặc tạo file mới nếu khởi chạy lại vì dữ liệu không đè lên được\n",
        "import os\n",
        "A='Ella Hawkins teaches history. She is also an artist And she bakes.\\\n",
        "   Sometimes, Hawkins mixes all these things together. She paints pictures of old objects on cookies! For example, Hawkins loves old costumes.\\\n",
        "   One old costume had a nice pattern. Hawkins drew this pattern on a cookie.\\\n",
        "   How does Hawkins make her cookie art? First, she bakes square, flat cookies.\\\n",
        "   She puts orange and vanilla flavors inside. Next, she covers the cookie with royal icing.\\\n",
        "   Then, she draws pictures and designs on the cookie. Hawkins uses small, thin brushes and food coloring.\\\n",
        "   She makes lines, flowers, hearts, and other shapes.'\n",
        "speak = gTTS(text=A,slow=False)\n",
        "speak.save('/content/drive/MyDrive/DATA FOR AI/SPEECH/speak.mp3')\n",
        "#play.sound(xxxxx.mp3) # để chạy trong giao diện thực\n",
        "#os.remove(xxxx.mp3)"
      ],
      "metadata": {
        "id": "SFO0vTpAQqO4"
      },
      "execution_count": 6,
      "outputs": []
    }
  ]
}