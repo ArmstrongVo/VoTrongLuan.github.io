{
  "nbformat": 4,
  "nbformat_minor": 0,
  "metadata": {
    "colab": {
      "provenance": [],
      "authorship_tag": "ABX9TyP3wpLVXmvCHBgR7iDOR3Ok",
      "include_colab_link": true
    },
    "kernelspec": {
      "name": "python3",
      "display_name": "Python 3"
    },
    "language_info": {
      "name": "python"
    }
  },
  "cells": [
    {
      "cell_type": "markdown",
      "metadata": {
        "id": "view-in-github",
        "colab_type": "text"
      },
      "source": [
        "<a href=\"https://colab.research.google.com/github/ArmstrongVo/VoTrongLuan.github.io/blob/main/model_VGGL.ipynb\" target=\"_parent\"><img src=\"https://colab.research.google.com/assets/colab-badge.svg\" alt=\"Open In Colab\"/></a>"
      ]
    },
    {
      "cell_type": "code",
      "execution_count": 2,
      "metadata": {
        "id": "5PIksR4_GweO"
      },
      "outputs": [],
      "source": [
        "# import libraries\n",
        "import keras\n",
        "import cv2\n",
        "import tensorflow as tf\n",
        "from keras.models import Sequential\n",
        "from glob import glob\n",
        "from keras.layers import Dense, Dropout, Flatten,Activation\n",
        "from keras.layers import Conv2D, MaxPooling2D, Conv3D, BatchNormalization\n",
        "from keras.layers import LeakyReLU\n",
        "from tensorflow.keras.preprocessing.image import ImageDataGenerator, load_img,img_to_array, array_to_img\n",
        "import matplotlib.pyplot as plt\n",
        "import numpy as np\n"
      ]
    },
    {
      "cell_type": "code",
      "source": [
        "# access to data\n",
        "test='/content/drive/MyDrive/DATA FOR AI/PNEUMONIA/TEST'\n",
        "train='/content/drive/MyDrive/DATA FOR AI/PNEUMONIA/TRAIN'\n"
      ],
      "metadata": {
        "id": "cicJYPEEG2yw"
      },
      "execution_count": null,
      "outputs": []
    },
    {
      "cell_type": "code",
      "source": [
        "# để hệ thống đạt được độ chính xác cao nhất\n",
        "# tiến hành pre-processing sử dụng kỹ thuật data agumentation\n",
        "# thiết lập các thông số cho data augmentation\n",
        "# xoay ảnh\n",
        "# lật chiều ngang\n",
        "# lật dọc\n",
        "# phóng to hoặc thu nhỏ\n",
        "\n",
        "train_augen = ImageDataGenerator(rescale=1./255,\n",
        "                                   rotation_range=0.2, \n",
        "                                   horizontal_flip=True,\n",
        "                                   vertical_flip=True,\n",
        "                                   zoom_range=0.2)\n",
        "\n",
        "test_augen = ImageDataGenerator(rescale=1./255)\n",
        "\n",
        "train_set = train_augen.flow_from_directory(train,\n",
        "                                            target_size=(224, 224),\n",
        "                                            batch_size=64,\n",
        "                                            class_mode='categorical')\n",
        "                                               \n",
        "test_set = test_augen.flow_from_directory(test,\n",
        "                                          target_size=(224, 224),\n",
        "                                          batch_size=64,\n",
        "                                          class_mode='categorical')"
      ],
      "metadata": {
        "id": "0B29YGEAG6WL"
      },
      "execution_count": null,
      "outputs": []
    },
    {
      "cell_type": "code",
      "source": [
        "# cấu trúc CNN\n",
        "model = Sequential()\n",
        "# sử dụng 16 bộ lọc kích thước 3*3 để tạo tích chập\n",
        "# trọng số \" he-uniform\"\n",
        "# tạo bộ đệm để đầu ra giống đầu vào\n",
        "# hạn chế mất mát dữu liệu khi tích chập có giá trị âm\n",
        "# pooling các giá trị lớn nhát trong vùng 2*2 \n",
        "model.add(Conv2D(32, kernel_size=(3,3), activation='relu',kernel_initializer='he_uniform', padding='same',  input_shape=(224, 224,3)))\n",
        "model.add(LeakyReLU(alpha = 0.1))\n",
        "model.add(MaxPooling2D(pool_size=(2,2)))\n",
        "\n",
        "model.add(Conv2D(64, kernel_size=(3,3),kernel_initializer='he_uniform', padding='same', activation='relu'))\n",
        "model.add(LeakyReLU(alpha = 0.1))\n",
        "model.add(MaxPooling2D(pool_size=(2,2)))\n",
        "\n",
        "model.add(Conv2D(128, kernel_size=(3,3),kernel_initializer='he_uniform', padding='same', activation='relu'))\n",
        "model.add(Conv2D(128, kernel_size=(3,3),kernel_initializer='he_uniform', padding='same', activation='relu'))\n",
        "model.add(LeakyReLU(alpha = 0.1))\n",
        "model.add(MaxPooling2D(pool_size=(2,2)))\n",
        "\n",
        "model.add(Conv2D(256, kernel_size=(3,3),kernel_initializer='he_uniform', padding='same', activation='relu'))\n",
        "model.add(Conv2D(256, kernel_size=(3,3),kernel_initializer='he_uniform', padding='same', activation='relu'))\n",
        "model.add(LeakyReLU(alpha = 0.1))\n",
        "model.add(MaxPooling2D(pool_size=(2,2)))\n",
        "\n",
        "model.add(Conv2D(512, kernel_size=(3,3),kernel_initializer='he_uniform', padding='same', activation='relu'))\n",
        "model.add(Conv2D(512, kernel_size=(3,3),kernel_initializer='he_uniform', padding='same', activation='relu'))\n",
        "model.add(Conv2D(512, kernel_size=(3,3),kernel_initializer='he_uniform', padding='same', activation='relu'))\n",
        "model.add(LeakyReLU(alpha = 0.1))\n",
        "model.add(MaxPooling2D(pool_size=(2,2)))\n",
        "\n",
        "model.add(Flatten())  # chuyển đầu ra 2D thành  1D để đưa vào lớp fullconnected\n",
        "model.add(Activation(\"relu\"))\n",
        "model.add(Dense(512))\n",
        "model.add(Dropout(0.4)) # loại bỏ bớt 1 số thành phần để tránh ovefitting_ không tổng quát tốt được quá trình học\n",
        "model.add(Dense(3))  # fullconnected 3 ngõ ra \n",
        "model.add(Activation(\"softmax\"))   # đưa ra xác suất dự đoán cho mỗi lớp\n",
        "\n",
        "model.summary()"
      ],
      "metadata": {
        "colab": {
          "base_uri": "https://localhost:8080/"
        },
        "id": "01lSTehuHrnz",
        "outputId": "57aa284e-9e25-4d64-d651-dbc3c8e2c4c2"
      },
      "execution_count": 11,
      "outputs": [
        {
          "output_type": "stream",
          "name": "stdout",
          "text": [
            "Model: \"sequential_8\"\n",
            "_________________________________________________________________\n",
            " Layer (type)                Output Shape              Param #   \n",
            "=================================================================\n",
            " conv2d_76 (Conv2D)          (None, 224, 224, 32)      896       \n",
            "                                                                 \n",
            " leaky_re_lu_40 (LeakyReLU)  (None, 224, 224, 32)      0         \n",
            "                                                                 \n",
            " max_pooling2d_40 (MaxPoolin  (None, 112, 112, 32)     0         \n",
            " g2D)                                                            \n",
            "                                                                 \n",
            " conv2d_77 (Conv2D)          (None, 112, 112, 64)      18496     \n",
            "                                                                 \n",
            " leaky_re_lu_41 (LeakyReLU)  (None, 112, 112, 64)      0         \n",
            "                                                                 \n",
            " max_pooling2d_41 (MaxPoolin  (None, 56, 56, 64)       0         \n",
            " g2D)                                                            \n",
            "                                                                 \n",
            " conv2d_78 (Conv2D)          (None, 56, 56, 128)       73856     \n",
            "                                                                 \n",
            " conv2d_79 (Conv2D)          (None, 56, 56, 128)       147584    \n",
            "                                                                 \n",
            " leaky_re_lu_42 (LeakyReLU)  (None, 56, 56, 128)       0         \n",
            "                                                                 \n",
            " max_pooling2d_42 (MaxPoolin  (None, 28, 28, 128)      0         \n",
            " g2D)                                                            \n",
            "                                                                 \n",
            " conv2d_80 (Conv2D)          (None, 28, 28, 256)       295168    \n",
            "                                                                 \n",
            " conv2d_81 (Conv2D)          (None, 28, 28, 256)       590080    \n",
            "                                                                 \n",
            " leaky_re_lu_43 (LeakyReLU)  (None, 28, 28, 256)       0         \n",
            "                                                                 \n",
            " max_pooling2d_43 (MaxPoolin  (None, 14, 14, 256)      0         \n",
            " g2D)                                                            \n",
            "                                                                 \n",
            " conv2d_82 (Conv2D)          (None, 14, 14, 512)       1180160   \n",
            "                                                                 \n",
            " conv2d_83 (Conv2D)          (None, 14, 14, 512)       2359808   \n",
            "                                                                 \n",
            " conv2d_84 (Conv2D)          (None, 14, 14, 512)       2359808   \n",
            "                                                                 \n",
            " leaky_re_lu_44 (LeakyReLU)  (None, 14, 14, 512)       0         \n",
            "                                                                 \n",
            " max_pooling2d_44 (MaxPoolin  (None, 7, 7, 512)        0         \n",
            " g2D)                                                            \n",
            "                                                                 \n",
            " flatten_8 (Flatten)         (None, 25088)             0         \n",
            "                                                                 \n",
            " activation_16 (Activation)  (None, 25088)             0         \n",
            "                                                                 \n",
            " dense_22 (Dense)            (None, 512)               12845568  \n",
            "                                                                 \n",
            " dropout_14 (Dropout)        (None, 512)               0         \n",
            "                                                                 \n",
            " dense_23 (Dense)            (None, 3)                 1539      \n",
            "                                                                 \n",
            " activation_17 (Activation)  (None, 3)                 0         \n",
            "                                                                 \n",
            "=================================================================\n",
            "Total params: 19,872,963\n",
            "Trainable params: 19,872,963\n",
            "Non-trainable params: 0\n",
            "_________________________________________________________________\n"
          ]
        }
      ]
    },
    {
      "cell_type": "code",
      "source": [
        "model.compile(optimizer='adam', loss='categorical_crossentropy', metrics=['accuracy'])\n",
        "\n",
        "training_model = model.fit(train_set,\n",
        "                    steps_per_epoch=85,\n",
        "                    epochs=10,\n",
        "                    validation_data=test_set,\n",
        "                    validation_steps=6)\n",
        "model.save(\"/content/drive/MyDrive/DATA FOR AI/PNEUMONIA/pneumonia.h5\")"
      ],
      "metadata": {
        "id": "-NAb10LVbvXu"
      },
      "execution_count": null,
      "outputs": []
    },
    {
      "cell_type": "code",
      "source": [],
      "metadata": {
        "id": "rDA2ZgOmOsDW"
      },
      "execution_count": null,
      "outputs": []
    }
  ]
}