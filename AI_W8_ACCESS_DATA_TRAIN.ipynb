{
  "nbformat": 4,
  "nbformat_minor": 0,
  "metadata": {
    "colab": {
      "provenance": [],
      "mount_file_id": "1wKeEqOwLhRiZsSkEZE6x1GQu3AT7DFhJ",
      "authorship_tag": "ABX9TyM0pzda6DIlmphZRRHaxy95",
      "include_colab_link": true
    },
    "kernelspec": {
      "name": "python3",
      "display_name": "Python 3"
    },
    "language_info": {
      "name": "python"
    }
  },
  "cells": [
    {
      "cell_type": "markdown",
      "metadata": {
        "id": "view-in-github",
        "colab_type": "text"
      },
      "source": [
        "<a href=\"https://colab.research.google.com/github/ArmstrongVo/VoTrongLuan.github.io/blob/main/AI_W8_ACCESS_DATA_TRAIN.ipynb\" target=\"_parent\"><img src=\"https://colab.research.google.com/assets/colab-badge.svg\" alt=\"Open In Colab\"/></a>"
      ]
    },
    {
      "cell_type": "code",
      "execution_count": null,
      "metadata": {
        "id": "ouL_6kWa_sQN"
      },
      "outputs": [],
      "source": [
        "from keras.models import load_model\n",
        "model100=load_model('/content/drive/MyDrive/aa/abc.h5')\n",
        "from keras.utils import load_img,img_to_array\n",
        "import matplotlib.pyplot as plt\n",
        "img = load_img('/content/drive/MyDrive/aa/AI/10.jpg')\n",
        "plt.imshow(img)\n",
        "plt.show() \n",
        "\n"
      ]
    },
    {
      "cell_type": "code",
      "source": [
        "img = load_img('/content/drive/MyDrive/aa/AI/10.jpg',target_size=(32,32))\n",
        "plt.imshow(img)"
      ],
      "metadata": {
        "colab": {
          "base_uri": "https://localhost:8080/",
          "height": 447
        },
        "id": "488InjY4Cr7I",
        "outputId": "35171573-1684-4d18-8e29-4db7a72655b6"
      },
      "execution_count": 7,
      "outputs": [
        {
          "output_type": "execute_result",
          "data": {
            "text/plain": [
              "<matplotlib.image.AxesImage at 0x7f5b340e9640>"
            ]
          },
          "metadata": {},
          "execution_count": 7
        },
        {
          "output_type": "display_data",
          "data": {
            "text/plain": [
              "<Figure size 640x480 with 1 Axes>"
            ],
            "image/png": "[encoded data removed]"
          },
          "metadata": {}
        }
      ]
    },
    {
      "cell_type": "code",
      "source": [
        "img=img_to_array(img)\n",
        "img=img.reshape(1,32*32*3)\n",
        "img=img.astype('float32')\n",
        "img=img/255\n",
        "import numpy as np\n",
        "np.argmax(model100.predict(img),axis=1)"
      ],
      "metadata": {
        "colab": {
          "base_uri": "https://localhost:8080/"
        },
        "id": "h5ZBk_EVC_MA",
        "outputId": "4d41d772-027a-4c3e-bda5-712e3c0c2402"
      },
      "execution_count": 9,
      "outputs": [
        {
          "output_type": "stream",
          "name": "stdout",
          "text": [
            "1/1 [==============================] - 0s 183ms/step\n"
          ]
        },
        {
          "output_type": "execute_result",
          "data": {
            "text/plain": [
              "array([21])"
            ]
          },
          "metadata": {},
          "execution_count": 9
        }
      ]
    }
  ]
}