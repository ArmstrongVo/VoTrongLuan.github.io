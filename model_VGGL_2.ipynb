{
  "cells": [
    {
      "cell_type": "markdown",
      "metadata": {
        "id": "view-in-github",
        "colab_type": "text"
      },
      "source": [
        "<a href=\"https://colab.research.google.com/github/ArmstrongVo/VoTrongLuan.github.io/blob/main/model_VGGL_2.ipynb\" target=\"_parent\"><img src=\"https://colab.research.google.com/assets/colab-badge.svg\" alt=\"Open In Colab\"/></a>"
      ]
    },
    {
      "cell_type": "code",
      "execution_count": 5,
      "metadata": {
        "id": "5PIksR4_GweO"
      },
      "outputs": [],
      "source": [
        "# import libraries\n",
        "import keras\n",
        "import cv2\n",
        "import tensorflow as tf\n",
        "from keras.models import Sequential\n",
        "from glob import glob\n",
        "from keras.layers import Dense, Dropout, Flatten,Activation\n",
        "from keras.layers import Conv2D, MaxPooling2D, Conv3D, BatchNormalization\n",
        "from keras.layers import LeakyReLU\n",
        "from tensorflow.keras.preprocessing.image import ImageDataGenerator, load_img,img_to_array, array_to_img\n",
        "import matplotlib.pyplot as plt\n",
        "import numpy as np\n",
        "from keras.models import load_model\n"
      ]
    },
    {
      "cell_type": "code",
      "execution_count": 6,
      "metadata": {
        "id": "cicJYPEEG2yw"
      },
      "outputs": [],
      "source": [
        "# access to data\n",
        "test='/content/drive/MyDrive/DATA FOR AI/MV_DATA/test2'\n",
        "train='/content/drive/MyDrive/DATA FOR AI/MV_DATA/train2'\n"
      ]
    },
    {
      "cell_type": "code",
      "execution_count": 7,
      "metadata": {
        "colab": {
          "base_uri": "https://localhost:8080/"
        },
        "id": "0B29YGEAG6WL",
        "outputId": "3d343653-165e-4222-aa29-e97ce9cfd32f"
      },
      "outputs": [
        {
          "output_type": "stream",
          "name": "stdout",
          "text": [
            "Found 14882 images belonging to 3 classes.\n",
            "Found 301 images belonging to 3 classes.\n"
          ]
        }
      ],
      "source": [
        "# để hệ thống đạt được độ chính xác cao nhất\n",
        "# tiến hành pre-processing sử dụng kỹ thuật data agumentation\n",
        "# thiết lập các thông số cho data augmentation\n",
        "# xoay ảnh\n",
        "# lật chiều ngang\n",
        "# lật dọc\n",
        "# phóng to hoặc thu nhỏ\n",
        "\n",
        "train_augen = ImageDataGenerator(rescale=1./255,\n",
        "                                   rotation_range=0.2, \n",
        "                                   horizontal_flip=True,\n",
        "                                   vertical_flip=True,\n",
        "                                   zoom_range=0.2)\n",
        "\n",
        "test_augen = ImageDataGenerator(rescale=1./255)\n",
        "\n",
        "train_set = train_augen.flow_from_directory(train,\n",
        "                                            target_size=(224, 224),\n",
        "                                            batch_size=64,\n",
        "                                            class_mode='categorical')\n",
        "                                               \n",
        "test_set = test_augen.flow_from_directory(test,\n",
        "                                          target_size=(224, 224),\n",
        "                                          batch_size=64,\n",
        "                                          class_mode='categorical')"
      ]
    },
    {
      "cell_type": "code",
      "execution_count": null,
      "metadata": {
        "colab": {
          "base_uri": "https://localhost:8080/"
        },
        "id": "01lSTehuHrnz",
        "outputId": "64fc0e4f-c04d-456b-c061-00a54253aa4f"
      },
      "outputs": [
        {
          "name": "stdout",
          "output_type": "stream",
          "text": [
            "Model: \"sequential\"\n",
            "_________________________________________________________________\n",
            " Layer (type)                Output Shape              Param #   \n",
            "=================================================================\n",
            " conv2d (Conv2D)             (None, 224, 224, 32)      896       \n",
            "                                                                 \n",
            " leaky_re_lu (LeakyReLU)     (None, 224, 224, 32)      0         \n",
            "                                                                 \n",
            " max_pooling2d (MaxPooling2D  (None, 112, 112, 32)     0         \n",
            " )                                                               \n",
            "                                                                 \n",
            " conv2d_1 (Conv2D)           (None, 112, 112, 64)      18496     \n",
            "                                                                 \n",
            " leaky_re_lu_1 (LeakyReLU)   (None, 112, 112, 64)      0         \n",
            "                                                                 \n",
            " max_pooling2d_1 (MaxPooling  (None, 56, 56, 64)       0         \n",
            " 2D)                                                             \n",
            "                                                                 \n",
            " conv2d_2 (Conv2D)           (None, 56, 56, 128)       73856     \n",
            "                                                                 \n",
            " conv2d_3 (Conv2D)           (None, 56, 56, 128)       147584    \n",
            "                                                                 \n",
            " leaky_re_lu_2 (LeakyReLU)   (None, 56, 56, 128)       0         \n",
            "                                                                 \n",
            " max_pooling2d_2 (MaxPooling  (None, 28, 28, 128)      0         \n",
            " 2D)                                                             \n",
            "                                                                 \n",
            " conv2d_4 (Conv2D)           (None, 28, 28, 256)       295168    \n",
            "                                                                 \n",
            " conv2d_5 (Conv2D)           (None, 28, 28, 256)       590080    \n",
            "                                                                 \n",
            " leaky_re_lu_3 (LeakyReLU)   (None, 28, 28, 256)       0         \n",
            "                                                                 \n",
            " max_pooling2d_3 (MaxPooling  (None, 14, 14, 256)      0         \n",
            " 2D)                                                             \n",
            "                                                                 \n",
            " conv2d_6 (Conv2D)           (None, 14, 14, 512)       1180160   \n",
            "                                                                 \n",
            " conv2d_7 (Conv2D)           (None, 14, 14, 512)       2359808   \n",
            "                                                                 \n",
            " conv2d_8 (Conv2D)           (None, 14, 14, 512)       2359808   \n",
            "                                                                 \n",
            " leaky_re_lu_4 (LeakyReLU)   (None, 14, 14, 512)       0         \n",
            "                                                                 \n",
            " max_pooling2d_4 (MaxPooling  (None, 7, 7, 512)        0         \n",
            " 2D)                                                             \n",
            "                                                                 \n",
            " flatten (Flatten)           (None, 25088)             0         \n",
            "                                                                 \n",
            " activation (Activation)     (None, 25088)             0         \n",
            "                                                                 \n",
            " dense (Dense)               (None, 512)               12845568  \n",
            "                                                                 \n",
            " dropout (Dropout)           (None, 512)               0         \n",
            "                                                                 \n",
            " dense_1 (Dense)             (None, 3)                 1539      \n",
            "                                                                 \n",
            " activation_1 (Activation)   (None, 3)                 0         \n",
            "                                                                 \n",
            "=================================================================\n",
            "Total params: 19,872,963\n",
            "Trainable params: 19,872,963\n",
            "Non-trainable params: 0\n",
            "_________________________________________________________________\n"
          ]
        }
      ],
      "source": [
        "# cấu trúc CNN\n",
        "model = Sequential()\n",
        "# sử dụng 16 bộ lọc kích thước 3*3 để tạo tích chập\n",
        "# trọng số \" he-uniform\"\n",
        "# tạo bộ đệm để đầu ra giống đầu vào\n",
        "# hạn chế mất mát dữu liệu khi tích chập có giá trị âm\n",
        "# pooling các giá trị lớn nhát trong vùng 2*2 \n",
        "model.add(Conv2D(32, kernel_size=(3,3), activation='relu',kernel_initializer='he_uniform', padding='same',  input_shape=(224, 224,3)))\n",
        "model.add(LeakyReLU(alpha = 0.1))\n",
        "model.add(MaxPooling2D(pool_size=(2,2)))\n",
        "\n",
        "model.add(Conv2D(64, kernel_size=(3,3),kernel_initializer='he_uniform', padding='same', activation='relu'))\n",
        "model.add(LeakyReLU(alpha = 0.1))\n",
        "model.add(MaxPooling2D(pool_size=(2,2)))\n",
        "\n",
        "model.add(Conv2D(128, kernel_size=(3,3),kernel_initializer='he_uniform', padding='same', activation='relu'))\n",
        "model.add(Conv2D(128, kernel_size=(3,3),kernel_initializer='he_uniform', padding='same', activation='relu'))\n",
        "model.add(LeakyReLU(alpha = 0.1))\n",
        "model.add(MaxPooling2D(pool_size=(2,2)))\n",
        "\n",
        "model.add(Conv2D(256, kernel_size=(3,3),kernel_initializer='he_uniform', padding='same', activation='relu'))\n",
        "model.add(Conv2D(256, kernel_size=(3,3),kernel_initializer='he_uniform', padding='same', activation='relu'))\n",
        "model.add(LeakyReLU(alpha = 0.1))\n",
        "model.add(MaxPooling2D(pool_size=(2,2)))\n",
        "\n",
        "model.add(Conv2D(512, kernel_size=(3,3),kernel_initializer='he_uniform', padding='same', activation='relu'))\n",
        "model.add(Conv2D(512, kernel_size=(3,3),kernel_initializer='he_uniform', padding='same', activation='relu'))\n",
        "model.add(Conv2D(512, kernel_size=(3,3),kernel_initializer='he_uniform', padding='same', activation='relu'))\n",
        "model.add(LeakyReLU(alpha = 0.1))\n",
        "model.add(MaxPooling2D(pool_size=(2,2)))\n",
        "\n",
        "model.add(Flatten())  # chuyển đầu ra 2D thành  1D để đưa vào lớp fullconnected\n",
        "model.add(Activation(\"relu\"))\n",
        "model.add(Dense(512))\n",
        "model.add(Dropout(0.4)) # loại bỏ bớt 1 số thành phần để tránh ovefitting_ không tổng quát tốt được quá trình học\n",
        "model.add(Dense(3))  # fullconnected 3 ngõ ra \n",
        "model.add(Activation(\"softmax\"))   # đưa ra xác suất dự đoán cho mỗi lớp\n",
        "\n",
        "model.summary()"
      ]
    },
    {
      "cell_type": "code",
      "execution_count": null,
      "metadata": {
        "colab": {
          "base_uri": "https://localhost:8080/"
        },
        "id": "-NAb10LVbvXu",
        "outputId": "1ac818dd-7b61-4376-d8df-7deac57d201b"
      },
      "outputs": [
        {
          "name": "stdout",
          "output_type": "stream",
          "text": [
            "Epoch 1/10\n",
            "200/200 [==============================] - 3006s 15s/step - loss: 3.1891 - accuracy: 0.6908 - val_loss: 0.8529 - val_accuracy: 0.5781\n",
            "Epoch 2/10\n",
            "200/200 [==============================] - 566s 3s/step - loss: 0.5679 - accuracy: 0.7426 - val_loss: 0.7090 - val_accuracy: 0.6279\n",
            "Epoch 3/10\n",
            "200/200 [==============================] - 243s 1s/step - loss: 0.5049 - accuracy: 0.7781 - val_loss: 0.6388 - val_accuracy: 0.7176\n",
            "Epoch 4/10\n",
            "200/200 [==============================] - 193s 966ms/step - loss: 0.4514 - accuracy: 0.8051 - val_loss: 0.6887 - val_accuracy: 0.6910\n",
            "Epoch 5/10\n",
            "200/200 [==============================] - 189s 943ms/step - loss: 0.4044 - accuracy: 0.8330 - val_loss: 0.6982 - val_accuracy: 0.6346\n",
            "Epoch 6/10\n",
            "200/200 [==============================] - 186s 927ms/step - loss: 0.3804 - accuracy: 0.8407 - val_loss: 0.4440 - val_accuracy: 0.7940\n",
            "Epoch 7/10\n",
            "200/200 [==============================] - 186s 930ms/step - loss: 0.3467 - accuracy: 0.8568 - val_loss: 0.4760 - val_accuracy: 0.7874\n",
            "Epoch 8/10\n",
            "200/200 [==============================] - 186s 927ms/step - loss: 0.3362 - accuracy: 0.8634 - val_loss: 0.5947 - val_accuracy: 0.7209\n",
            "Epoch 9/10\n",
            "200/200 [==============================] - 184s 917ms/step - loss: 0.3050 - accuracy: 0.8774 - val_loss: 0.5536 - val_accuracy: 0.7542\n",
            "Epoch 10/10\n",
            "200/200 [==============================] - 184s 917ms/step - loss: 0.3075 - accuracy: 0.8785 - val_loss: 0.5659 - val_accuracy: 0.7674\n"
          ]
        }
      ],
      "source": [
        "model.compile(optimizer='adam', loss='categorical_crossentropy', metrics=['accuracy'])\n",
        "\n",
        "training_model = model.fit(train_set,\n",
        "                    steps_per_epoch=200,\n",
        "                    epochs=50,\n",
        "                    validation_data=test_set,\n",
        "                    validation_steps=5)\n",
        "model.save(\"/content/drive/MyDrive/DATA FOR AI/MV_DATA/VGG.h5\")"
      ]
    },
    {
      "cell_type": "code",
      "execution_count": 4,
      "metadata": {
        "colab": {
          "base_uri": "https://localhost:8080/"
        },
        "id": "rDA2ZgOmOsDW",
        "outputId": "5e119f75-1174-4805-a16e-36914e263b5e"
      },
      "outputs": [
        {
          "output_type": "stream",
          "name": "stdout",
          "text": [
            "Epoch 1/20\n",
            "100/100 [==============================] - 795s 8s/step - loss: 0.2776 - accuracy: 0.8897 - val_loss: 0.6329 - val_accuracy: 0.7409\n",
            "Epoch 2/20\n",
            "100/100 [==============================] - 341s 3s/step - loss: 0.2950 - accuracy: 0.8782 - val_loss: 0.4836 - val_accuracy: 0.7674\n",
            "Epoch 3/20\n",
            "100/100 [==============================] - 237s 2s/step - loss: 0.2901 - accuracy: 0.8822 - val_loss: 0.3876 - val_accuracy: 0.8538\n",
            "Epoch 4/20\n",
            "100/100 [==============================] - 181s 2s/step - loss: 0.2771 - accuracy: 0.8895 - val_loss: 0.6358 - val_accuracy: 0.7575\n",
            "Epoch 5/20\n",
            "100/100 [==============================] - 136s 1s/step - loss: 0.2807 - accuracy: 0.8867 - val_loss: 0.6306 - val_accuracy: 0.7276\n",
            "Epoch 6/20\n",
            "100/100 [==============================] - 121s 1s/step - loss: 0.2671 - accuracy: 0.8918 - val_loss: 0.6059 - val_accuracy: 0.7708\n",
            "Epoch 7/20\n",
            "100/100 [==============================] - 112s 1s/step - loss: 0.2663 - accuracy: 0.8947 - val_loss: 0.7166 - val_accuracy: 0.7243\n",
            "Epoch 8/20\n",
            "100/100 [==============================] - 102s 1s/step - loss: 0.2558 - accuracy: 0.8994 - val_loss: 0.3361 - val_accuracy: 0.8638\n",
            "Epoch 9/20\n",
            "100/100 [==============================] - 100s 995ms/step - loss: 0.2491 - accuracy: 0.9003 - val_loss: 0.2493 - val_accuracy: 0.9003\n",
            "Epoch 10/20\n",
            "100/100 [==============================] - 100s 1s/step - loss: 0.2288 - accuracy: 0.9106 - val_loss: 0.2588 - val_accuracy: 0.9003\n",
            "Epoch 11/20\n",
            "100/100 [==============================] - 99s 986ms/step - loss: 0.2545 - accuracy: 0.8981 - val_loss: 0.3792 - val_accuracy: 0.8339\n",
            "Epoch 12/20\n",
            "100/100 [==============================] - 96s 959ms/step - loss: 0.2430 - accuracy: 0.9063 - val_loss: 0.4805 - val_accuracy: 0.7940\n",
            "Epoch 13/20\n",
            "100/100 [==============================] - 97s 969ms/step - loss: 0.2472 - accuracy: 0.9017 - val_loss: 0.5048 - val_accuracy: 0.8106\n",
            "Epoch 14/20\n",
            "100/100 [==============================] - 97s 967ms/step - loss: 0.2450 - accuracy: 0.9016 - val_loss: 0.2937 - val_accuracy: 0.8937\n",
            "Epoch 15/20\n",
            "100/100 [==============================] - 97s 965ms/step - loss: 0.2375 - accuracy: 0.9077 - val_loss: 0.3367 - val_accuracy: 0.8638\n",
            "Epoch 16/20\n",
            "100/100 [==============================] - 98s 974ms/step - loss: 0.2330 - accuracy: 0.9074 - val_loss: 0.5031 - val_accuracy: 0.8140\n",
            "Epoch 17/20\n",
            "100/100 [==============================] - 96s 961ms/step - loss: 0.2327 - accuracy: 0.9116 - val_loss: 0.4255 - val_accuracy: 0.8372\n",
            "Epoch 18/20\n",
            "100/100 [==============================] - 96s 962ms/step - loss: 0.2269 - accuracy: 0.9083 - val_loss: 0.4112 - val_accuracy: 0.8605\n",
            "Epoch 19/20\n",
            "100/100 [==============================] - 96s 955ms/step - loss: 0.2182 - accuracy: 0.9146 - val_loss: 0.3203 - val_accuracy: 0.8605\n",
            "Epoch 20/20\n",
            "100/100 [==============================] - 94s 938ms/step - loss: 0.2151 - accuracy: 0.9169 - val_loss: 0.2903 - val_accuracy: 0.8870\n"
          ]
        }
      ],
      "source": [
        "model=load_model('/content/drive/MyDrive/DATA FOR AI/MV_DATA/VGG.h5')\n",
        "training_model = model.fit(train_set,\n",
        "                    steps_per_epoch=100,\n",
        "                    epochs=20,\n",
        "                    validation_data=test_set,\n",
        "                    validation_steps=5)\n",
        "model.save(\"/content/drive/MyDrive/DATA FOR AI/MV_DATA/VGG_1.h5\")"
      ]
    },
    {
      "cell_type": "code",
      "source": [
        "model=load_model('/content/drive/MyDrive/DATA FOR AI/MV_DATA/VGG_1.h5')\n",
        "training_model = model.fit(train_set,\n",
        "                    steps_per_epoch=150,\n",
        "                    epochs=20,\n",
        "                    validation_data=test_set,\n",
        "                    validation_steps=5)\n",
        "model.save(\"/content/drive/MyDrive/DATA FOR AI/MV_DATA/VGG_2.h5\")"
      ],
      "metadata": {
        "colab": {
          "base_uri": "https://localhost:8080/"
        },
        "id": "Rd07UnFhJV76",
        "outputId": "dbba3cb8-e7ab-4aa7-a808-18c944441efa"
      },
      "execution_count": 8,
      "outputs": [
        {
          "output_type": "stream",
          "name": "stdout",
          "text": [
            "Epoch 1/20\n",
            "150/150 [==============================] - 152s 960ms/step - loss: 0.2137 - accuracy: 0.9188 - val_loss: 0.4799 - val_accuracy: 0.8306\n",
            "Epoch 2/20\n",
            "150/150 [==============================] - 143s 952ms/step - loss: 0.2206 - accuracy: 0.9141 - val_loss: 0.6487 - val_accuracy: 0.7841\n",
            "Epoch 3/20\n",
            "150/150 [==============================] - 144s 955ms/step - loss: 0.2032 - accuracy: 0.9224 - val_loss: 0.3393 - val_accuracy: 0.8671\n",
            "Epoch 4/20\n",
            "150/150 [==============================] - 145s 966ms/step - loss: 0.2148 - accuracy: 0.9190 - val_loss: 0.2996 - val_accuracy: 0.8804\n",
            "Epoch 5/20\n",
            "150/150 [==============================] - 140s 933ms/step - loss: 0.2155 - accuracy: 0.9177 - val_loss: 0.2954 - val_accuracy: 0.8804\n",
            "Epoch 6/20\n",
            "150/150 [==============================] - 143s 953ms/step - loss: 0.2095 - accuracy: 0.9187 - val_loss: 0.3596 - val_accuracy: 0.8339\n",
            "Epoch 7/20\n",
            "150/150 [==============================] - 142s 942ms/step - loss: 0.2029 - accuracy: 0.9240 - val_loss: 0.3565 - val_accuracy: 0.8472\n",
            "Epoch 8/20\n",
            "150/150 [==============================] - 142s 943ms/step - loss: 0.1943 - accuracy: 0.9248 - val_loss: 0.2195 - val_accuracy: 0.9103\n",
            "Epoch 9/20\n",
            "150/150 [==============================] - 140s 935ms/step - loss: 0.1915 - accuracy: 0.9258 - val_loss: 0.2240 - val_accuracy: 0.9037\n",
            "Epoch 10/20\n",
            "150/150 [==============================] - 144s 957ms/step - loss: 0.2090 - accuracy: 0.9176 - val_loss: 0.4761 - val_accuracy: 0.7973\n",
            "Epoch 11/20\n",
            "150/150 [==============================] - 143s 952ms/step - loss: 0.1987 - accuracy: 0.9229 - val_loss: 0.2803 - val_accuracy: 0.9003\n",
            "Epoch 12/20\n",
            "150/150 [==============================] - 142s 944ms/step - loss: 0.1913 - accuracy: 0.9247 - val_loss: 0.3622 - val_accuracy: 0.8538\n",
            "Epoch 13/20\n",
            "150/150 [==============================] - 141s 939ms/step - loss: 0.1908 - accuracy: 0.9253 - val_loss: 0.2176 - val_accuracy: 0.9136\n",
            "Epoch 14/20\n",
            "150/150 [==============================] - 142s 946ms/step - loss: 0.1851 - accuracy: 0.9293 - val_loss: 0.3191 - val_accuracy: 0.8870\n",
            "Epoch 15/20\n",
            "150/150 [==============================] - 141s 939ms/step - loss: 0.2023 - accuracy: 0.9230 - val_loss: 0.3944 - val_accuracy: 0.8538\n",
            "Epoch 16/20\n",
            "150/150 [==============================] - 140s 935ms/step - loss: 0.1794 - accuracy: 0.9322 - val_loss: 0.1514 - val_accuracy: 0.9435\n",
            "Epoch 17/20\n",
            "150/150 [==============================] - 140s 931ms/step - loss: 0.1826 - accuracy: 0.9310 - val_loss: 0.2844 - val_accuracy: 0.8970\n",
            "Epoch 18/20\n",
            "150/150 [==============================] - 142s 946ms/step - loss: 0.1796 - accuracy: 0.9304 - val_loss: 0.2134 - val_accuracy: 0.9336\n",
            "Epoch 19/20\n",
            "150/150 [==============================] - 142s 940ms/step - loss: 0.1675 - accuracy: 0.9352 - val_loss: 0.3421 - val_accuracy: 0.8605\n",
            "Epoch 20/20\n",
            "150/150 [==============================] - 140s 932ms/step - loss: 0.1770 - accuracy: 0.9350 - val_loss: 0.1884 - val_accuracy: 0.9336\n"
          ]
        }
      ]
    }
  ],
  "metadata": {
    "accelerator": "GPU",
    "colab": {
      "provenance": [],
      "gpuType": "T4",
      "mount_file_id": "1plGZ9hHFcIY-k56QIgH2MV3zQPFYiK8y",
      "authorship_tag": "ABX9TyMaTuHN1BL+LOsSS5rxHmOs",
      "include_colab_link": true
    },
    "kernelspec": {
      "display_name": "Python 3",
      "name": "python3"
    },
    "language_info": {
      "name": "python"
    }
  },
  "nbformat": 4,
  "nbformat_minor": 0
}