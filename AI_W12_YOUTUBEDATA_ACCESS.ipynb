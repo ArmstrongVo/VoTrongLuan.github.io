{
  "nbformat": 4,
  "nbformat_minor": 0,
  "metadata": {
    "colab": {
      "provenance": [],
      "mount_file_id": "1Og6oynauaWi9QLnRMgyPw5Hfn280e6CG",
      "authorship_tag": "ABX9TyPRkVsZp99wydg7mxe4QQ7Y",
      "include_colab_link": true
    },
    "kernelspec": {
      "name": "python3",
      "display_name": "Python 3"
    },
    "language_info": {
      "name": "python"
    }
  },
  "cells": [
    {
      "cell_type": "markdown",
      "metadata": {
        "id": "view-in-github",
        "colab_type": "text"
      },
      "source": [
        "<a href=\"https://colab.research.google.com/github/ArmstrongVo/VoTrongLuan.github.io/blob/main/AI_W12_YOUTUBEDATA_ACCESS.ipynb\" target=\"_parent\"><img src=\"https://colab.research.google.com/assets/colab-badge.svg\" alt=\"Open In Colab\"/></a>"
      ]
    },
    {
      "cell_type": "code",
      "execution_count": 2,
      "metadata": {
        "colab": {
          "base_uri": "https://localhost:8080/"
        },
        "id": "iit-rOYj428P",
        "outputId": "ca996b6e-22c9-46aa-8e19-dc9e0edc5c6c"
      },
      "outputs": [
        {
          "output_type": "stream",
          "name": "stdout",
          "text": [
            "Looking in indexes: https://pypi.org/simple, https://us-python.pkg.dev/colab-wheels/public/simple/\n",
            "Requirement already satisfied: youtube_search in /usr/local/lib/python3.9/dist-packages (2.1.2)\n",
            "Requirement already satisfied: requests in /usr/local/lib/python3.9/dist-packages (from youtube_search) (2.27.1)\n",
            "Requirement already satisfied: idna<4,>=2.5 in /usr/local/lib/python3.9/dist-packages (from requests->youtube_search) (3.4)\n",
            "Requirement already satisfied: urllib3<1.27,>=1.21.1 in /usr/local/lib/python3.9/dist-packages (from requests->youtube_search) (1.26.15)\n",
            "Requirement already satisfied: charset-normalizer~=2.0.0 in /usr/local/lib/python3.9/dist-packages (from requests->youtube_search) (2.0.12)\n",
            "Requirement already satisfied: certifi>=2017.4.17 in /usr/local/lib/python3.9/dist-packages (from requests->youtube_search) (2022.12.7)\n"
          ]
        }
      ],
      "source": [
        "pip install youtube_search"
      ]
    },
    {
      "cell_type": "code",
      "source": [
        "from youtube_search import YoutubeSearch\n",
        "import webbrowser\n",
        "mysong= input('nhập tên bài hát')\n",
        "result=YoutubeSearch(mysong,max_results=10).to_dict()\n",
        "print(result)\n"
      ],
      "metadata": {
        "colab": {
          "base_uri": "https://localhost:8080/"
        },
        "id": "EaL1tdKV44kV",
        "outputId": "b75c9402-58c2-4229-df0d-1af0ed0b1ecb"
      },
      "execution_count": 3,
      "outputs": [
        {
          "output_type": "stream",
          "name": "stdout",
          "text": [
            "nhập tên bài háthết thương cạn nhớ\n",
            "[{'id': 'DZDYZ9nRHfU', 'thumbnails': ['https://i.ytimg.com/vi/DZDYZ9nRHfU/hq720.jpg?sqp=-oaymwEjCOgCEMoBSFryq4qpAxUIARUAAAAAGAElAADIQj0AgKJDeAE=&rs=AOn4CLA7lheqcFB1euiw8OmR4qeRdYsWvA', 'https://i.ytimg.com/vi/DZDYZ9nRHfU/hq720.jpg?sqp=-oaymwEXCNAFEJQDSFryq4qpAwkIARUAAIhCGAE=&rs=AOn4CLDaLAIKOwteI1lp6Ul164GJLIbEHQ'], 'title': 'HẾT THƯƠNG CẠN NHỚ - ĐỨC PHÚC | OFFICIAL MUSIC VIDEO', 'long_desc': None, 'channel': 'ĐỨC PHÚC OFFICIAL', 'duration': '6:22', 'views': '129,918,949 views', 'publish_time': '3 years ago', 'url_suffix': '/watch?v=DZDYZ9nRHfU&pp=ygUaaOG6v3QgdGjGsMahbmcgY-G6oW4gbmjhu5s%3D'}, {'id': 'g4KFkVQu-7g', 'thumbnails': ['https://i.ytimg.com/vi/g4KFkVQu-7g/hq720.jpg?sqp=-oaymwEjCOgCEMoBSFryq4qpAxUIARUAAAAAGAElAADIQj0AgKJDeAE=&rs=AOn4CLCYxsLMPG7Vub39kzOxtzV9JKXD_g', 'https://i.ytimg.com/vi/g4KFkVQu-7g/hq720.jpg?sqp=-oaymwEXCNAFEJQDSFryq4qpAwkIARUAAIhCGAE=&rs=AOn4CLCoWQ2xlg6-3OR9tDjjdVvCNhakGQ'], 'title': 'Hết Thương Cạn Nhớ - Đức Phúc [Audio Lyrics]', 'long_desc': None, 'channel': 'NhacPro - Music', 'duration': '4:44', 'views': '30,938,497 views', 'publish_time': '3 years ago', 'url_suffix': '/watch?v=g4KFkVQu-7g&pp=ygUaaOG6v3QgdGjGsMahbmcgY-G6oW4gbmjhu5s%3D'}, {'id': 'gwvA4V-7tLE', 'thumbnails': ['https://i.ytimg.com/vi/gwvA4V-7tLE/hq720.jpg?sqp=-oaymwEjCOgCEMoBSFryq4qpAxUIARUAAAAAGAElAADIQj0AgKJDeAE=&rs=AOn4CLA1ygKQBnAlN_UQ7RB2mTiB_woUeg', 'https://i.ytimg.com/vi/gwvA4V-7tLE/hq720.jpg?sqp=-oaymwEXCNAFEJQDSFryq4qpAwkIARUAAIhCGAE=&rs=AOn4CLAlnZZCikk1O_tSB91Ane6TwQt0yw'], 'title': 'Trấn Thành bất ngờ hát live \"Hết Thương Cạn Nhớ\" cực hay cùng Hiền Hồ và Erik l SÓNG 20', 'long_desc': None, 'channel': 'VieTalents', 'duration': '12:09', 'views': '70,005,758 views', 'publish_time': '3 years ago', 'url_suffix': '/watch?v=gwvA4V-7tLE&pp=ygUaaOG6v3QgdGjGsMahbmcgY-G6oW4gbmjhu5s%3D'}, {'id': 'U4k06KAm5Q8', 'thumbnails': ['https://i.ytimg.com/vi/U4k06KAm5Q8/hq720.jpg?sqp=-oaymwEjCOgCEMoBSFryq4qpAxUIARUAAAAAGAElAADIQj0AgKJDeAE=&rs=AOn4CLC8mRLn4ceRLQcQO6rDUDEWaL7E_w', 'https://i.ytimg.com/vi/U4k06KAm5Q8/hq720.jpg?sqp=-oaymwEXCNAFEJQDSFryq4qpAwkIARUAAIhCGAE=&rs=AOn4CLBzvxajQgsbjMINC151tZX5t6BcDA'], 'title': 'Sự thật là chỉ mỗi em hết thương cạn nhớ../ List nhạc buồn thiu buồn thúi/Trạm tình yêu số 6', 'long_desc': None, 'channel': 'deloies.925', 'duration': '36:39', 'views': '14,471 views', 'publish_time': '1 month ago', 'url_suffix': '/watch?v=U4k06KAm5Q8&pp=ygUaaOG6v3QgdGjGsMahbmcgY-G6oW4gbmjhu5s%3D'}, {'id': 'E9Gtl8mOsVc', 'thumbnails': ['https://i.ytimg.com/vi/E9Gtl8mOsVc/hq720.jpg?sqp=-oaymwEjCOgCEMoBSFryq4qpAxUIARUAAAAAGAElAADIQj0AgKJDeAE=&rs=AOn4CLDH2RuN2BwMFWKEnfUTJcmd0TLJ2g', 'https://i.ytimg.com/vi/E9Gtl8mOsVc/hq720.jpg?sqp=-oaymwEXCNAFEJQDSFryq4qpAwkIARUAAIhCGAE=&rs=AOn4CLBsm3yg8mhSa4OpkjCJVKOqUPFzfw'], 'title': 'Hết Thương Cạn Nhớ - Đức Phúc | Anh Hảo Cover Siêu Hài', 'long_desc': None, 'channel': 'Anh Hảo cô vơ', 'duration': '4:36', 'views': '13,221,201 views', 'publish_time': '3 years ago', 'url_suffix': '/watch?v=E9Gtl8mOsVc&pp=ygUaaOG6v3QgdGjGsMahbmcgY-G6oW4gbmjhu5s%3D'}, {'id': 'xM1lw0d_5D4', 'thumbnails': ['https://i.ytimg.com/vi/xM1lw0d_5D4/hq720.jpg?sqp=-oaymwEjCOgCEMoBSFryq4qpAxUIARUAAAAAGAElAADIQj0AgKJDeAE=&rs=AOn4CLAGs2MMCJldKPLdzCS0JQhKI-SDPw', 'https://i.ytimg.com/vi/xM1lw0d_5D4/hq720.jpg?sqp=-oaymwEXCNAFEJQDSFryq4qpAwkIARUAAIhCGAE=&rs=AOn4CLDFJP_aiuLPoluiAAJ53jYZtGXPNQ'], 'title': 'Hết Thương Cạn Nhớ - Đức Phúc [LYRIC VIDEO] #HTCN', 'long_desc': None, 'channel': 'Hạ Vũ', 'duration': '4:44', 'views': '11,211,158 views', 'publish_time': '3 years ago', 'url_suffix': '/watch?v=xM1lw0d_5D4&pp=ygUaaOG6v3QgdGjGsMahbmcgY-G6oW4gbmjhu5s%3D'}, {'id': 'JDzZb9zTaj4', 'thumbnails': ['https://i.ytimg.com/vi/JDzZb9zTaj4/hq720.jpg?sqp=-oaymwEjCOgCEMoBSFryq4qpAxUIARUAAAAAGAElAADIQj0AgKJDeAE=&rs=AOn4CLAT3zVe34-V-PmRCxPFnvUSb1_kZw', 'https://i.ytimg.com/vi/JDzZb9zTaj4/hq720.jpg?sqp=-oaymwEXCNAFEJQDSFryq4qpAwkIARUAAIhCGAE=&rs=AOn4CLBnBnzvvEuj4sLJ-NFI_a0aQHqnng'], 'title': 'Hết Thương Cạn Nhớ | Nhi Nhi - Tuyệt Phẩm Cover', 'long_desc': None, 'channel': 'CT Bắp Studio', 'duration': '4:25', 'views': '3,254,884 views', 'publish_time': '3 years ago', 'url_suffix': '/watch?v=JDzZb9zTaj4&pp=ygUaaOG6v3QgdGjGsMahbmcgY-G6oW4gbmjhu5s%3D'}, {'id': 'h6jVUnki9Rk', 'thumbnails': ['https://i.ytimg.com/vi/h6jVUnki9Rk/hq720.jpg?sqp=-oaymwEjCOgCEMoBSFryq4qpAxUIARUAAAAAGAElAADIQj0AgKJDeAE=&rs=AOn4CLBZ2D_Glj7L6Nq5qMHOChO2Uyvuxg', 'https://i.ytimg.com/vi/h6jVUnki9Rk/hq720.jpg?sqp=-oaymwEXCNAFEJQDSFryq4qpAwkIARUAAIhCGAE=&rs=AOn4CLA12TelhP9f5Mr40OBVoVVTA92lMg'], 'title': 'Ưng Hoàng Phúc hát hit HẾT THƯƠNG CẠN NHỚ của Đức Phúc theo cách mới lạ, nghe cực phiêu | #GLTG', 'long_desc': None, 'channel': 'F Music', 'duration': '4:31', 'views': '46,004 views', 'publish_time': '9 months ago', 'url_suffix': '/watch?v=h6jVUnki9Rk&pp=ygUaaOG6v3QgdGjGsMahbmcgY-G6oW4gbmjhu5s%3D'}, {'id': '1R4Hjiv8obk', 'thumbnails': ['https://i.ytimg.com/vi/1R4Hjiv8obk/hq720.jpg?sqp=-oaymwE9COgCEMoBSFryq4qpAy8IARUAAAAAGAElAADIQj0AgKJDeAHwAQH4Af4JgALQBYoCDAgAEAEYQSBYKGUwDw==&rs=AOn4CLAZonkBEVmvsBqQJdyUNx_mgqYvsw', 'https://i.ytimg.com/vi/1R4Hjiv8obk/hq720.jpg?sqp=-oaymwExCNAFEJQDSFryq4qpAyMIARUAAIhCGAHwAQH4Af4JgALQBYoCDAgAEAEYQSBYKGUwDw==&rs=AOn4CLDE6-B3HNeIRi3IaspK1e5dKBrn0w'], 'title': 'Hết Thương Cạn Nhớ - Đức Phúc | Lyric Video | Chẳng cần một ai nữa, tất cả ai cũng dư thừa...', 'long_desc': None, 'channel': 'Daz Music', 'duration': '4:44', 'views': '2,082 views', 'publish_time': '1 year ago', 'url_suffix': '/watch?v=1R4Hjiv8obk&pp=ygUaaOG6v3QgdGjGsMahbmcgY-G6oW4gbmjhu5s%3D'}, {'id': '5Ice0kHdVCs', 'thumbnails': ['https://i.ytimg.com/vi/5Ice0kHdVCs/hq720.jpg?sqp=-oaymwEjCOgCEMoBSFryq4qpAxUIARUAAAAAGAElAADIQj0AgKJDeAE=&rs=AOn4CLBZ8HncqjhcNcZGMIcv78eJ5jcRyA', 'https://i.ytimg.com/vi/5Ice0kHdVCs/hq720.jpg?sqp=-oaymwEXCNAFEJQDSFryq4qpAwkIARUAAIhCGAE=&rs=AOn4CLBbKxw14whvFzUo6CZSIkHuMDOxSg'], 'title': 'Nhạc Trẻ 2020 - Hết Thương Cạn Nhớ, Hơn Cả Yêu - Liên Khúc Nhạc Trẻ Tâm Trạng Buồn Hay Nhất 2020', 'long_desc': None, 'channel': 'Nhạc Trẻ Hay Nhất', 'duration': '1:21:38', 'views': '36,357 views', 'publish_time': '3 years ago', 'url_suffix': '/watch?v=5Ice0kHdVCs&pp=ygUaaOG6v3QgdGjGsMahbmcgY-G6oW4gbmjhu5s%3D'}]\n"
          ]
        }
      ]
    },
    {
      "cell_type": "code",
      "source": [
        "from youtube_search import YoutubeSearch\n",
        "import webbrowser\n",
        "mysong= input('nhập tên bài hát')\n",
        "result=YoutubeSearch(mysong,max_results=10).to_dict()\n",
        "print(result)\n",
        "print(result[0]['url_suffix'] )\n",
        "url='http://www.youtube.com'+result[0]['url_suffix']\n",
        "print(url)\n",
        "#webbrowser.open(url)     # TỰ ĐỘNG MỞ - CHỈ DÙNG DC TRÊN CÁC PHẦN MỀM LẬP TRÌNH KHÁC \n",
        "#print('bài hát yêu thích của bạn đã được mở ')"
      ],
      "metadata": {
        "colab": {
          "base_uri": "https://localhost:8080/"
        },
        "id": "K0zKKowA54UI",
        "outputId": "dbed4cf6-6a8d-448a-e4eb-e2a517cb94fc"
      },
      "execution_count": 4,
      "outputs": [
        {
          "output_type": "stream",
          "name": "stdout",
          "text": [
            "nhập tên bài háthết thương cạn nhớ\n",
            "[{'id': 'DZDYZ9nRHfU', 'thumbnails': ['https://i.ytimg.com/vi/DZDYZ9nRHfU/hq720.jpg?sqp=-oaymwEjCOgCEMoBSFryq4qpAxUIARUAAAAAGAElAADIQj0AgKJDeAE=&rs=AOn4CLA7lheqcFB1euiw8OmR4qeRdYsWvA', 'https://i.ytimg.com/vi/DZDYZ9nRHfU/hq720.jpg?sqp=-oaymwEXCNAFEJQDSFryq4qpAwkIARUAAIhCGAE=&rs=AOn4CLDaLAIKOwteI1lp6Ul164GJLIbEHQ'], 'title': 'HẾT THƯƠNG CẠN NHỚ - ĐỨC PHÚC | OFFICIAL MUSIC VIDEO', 'long_desc': None, 'channel': 'ĐỨC PHÚC OFFICIAL', 'duration': '6:22', 'views': '129,919,081 views', 'publish_time': '3 years ago', 'url_suffix': '/watch?v=DZDYZ9nRHfU&pp=ygUaaOG6v3QgdGjGsMahbmcgY-G6oW4gbmjhu5s%3D'}, {'id': 'g4KFkVQu-7g', 'thumbnails': ['https://i.ytimg.com/vi/g4KFkVQu-7g/hq720.jpg?sqp=-oaymwEjCOgCEMoBSFryq4qpAxUIARUAAAAAGAElAADIQj0AgKJDeAE=&rs=AOn4CLCYxsLMPG7Vub39kzOxtzV9JKXD_g', 'https://i.ytimg.com/vi/g4KFkVQu-7g/hq720.jpg?sqp=-oaymwEXCNAFEJQDSFryq4qpAwkIARUAAIhCGAE=&rs=AOn4CLCoWQ2xlg6-3OR9tDjjdVvCNhakGQ'], 'title': 'Hết Thương Cạn Nhớ - Đức Phúc [Audio Lyrics]', 'long_desc': None, 'channel': 'NhacPro - Music', 'duration': '4:44', 'views': '30,938,544 views', 'publish_time': '3 years ago', 'url_suffix': '/watch?v=g4KFkVQu-7g&pp=ygUaaOG6v3QgdGjGsMahbmcgY-G6oW4gbmjhu5s%3D'}, {'id': 'gwvA4V-7tLE', 'thumbnails': ['https://i.ytimg.com/vi/gwvA4V-7tLE/hq720.jpg?sqp=-oaymwEjCOgCEMoBSFryq4qpAxUIARUAAAAAGAElAADIQj0AgKJDeAE=&rs=AOn4CLA1ygKQBnAlN_UQ7RB2mTiB_woUeg', 'https://i.ytimg.com/vi/gwvA4V-7tLE/hq720.jpg?sqp=-oaymwEXCNAFEJQDSFryq4qpAwkIARUAAIhCGAE=&rs=AOn4CLAlnZZCikk1O_tSB91Ane6TwQt0yw'], 'title': 'Trấn Thành bất ngờ hát live \"Hết Thương Cạn Nhớ\" cực hay cùng Hiền Hồ và Erik l SÓNG 20', 'long_desc': None, 'channel': 'VieTalents', 'duration': '12:09', 'views': '70,005,773 views', 'publish_time': '3 years ago', 'url_suffix': '/watch?v=gwvA4V-7tLE&pp=ygUaaOG6v3QgdGjGsMahbmcgY-G6oW4gbmjhu5s%3D'}, {'id': 'U4k06KAm5Q8', 'thumbnails': ['https://i.ytimg.com/vi/U4k06KAm5Q8/hq720.jpg?sqp=-oaymwEjCOgCEMoBSFryq4qpAxUIARUAAAAAGAElAADIQj0AgKJDeAE=&rs=AOn4CLC8mRLn4ceRLQcQO6rDUDEWaL7E_w', 'https://i.ytimg.com/vi/U4k06KAm5Q8/hq720.jpg?sqp=-oaymwEXCNAFEJQDSFryq4qpAwkIARUAAIhCGAE=&rs=AOn4CLBzvxajQgsbjMINC151tZX5t6BcDA'], 'title': 'Sự thật là chỉ mỗi em hết thương cạn nhớ../ List nhạc buồn thiu buồn thúi/Trạm tình yêu số 6', 'long_desc': None, 'channel': 'deloies.925', 'duration': '36:39', 'views': '14,473 views', 'publish_time': '1 month ago', 'url_suffix': '/watch?v=U4k06KAm5Q8&pp=ygUaaOG6v3QgdGjGsMahbmcgY-G6oW4gbmjhu5s%3D'}, {'id': 'E9Gtl8mOsVc', 'thumbnails': ['https://i.ytimg.com/vi/E9Gtl8mOsVc/hq720.jpg?sqp=-oaymwEjCOgCEMoBSFryq4qpAxUIARUAAAAAGAElAADIQj0AgKJDeAE=&rs=AOn4CLDH2RuN2BwMFWKEnfUTJcmd0TLJ2g', 'https://i.ytimg.com/vi/E9Gtl8mOsVc/hq720.jpg?sqp=-oaymwEXCNAFEJQDSFryq4qpAwkIARUAAIhCGAE=&rs=AOn4CLBsm3yg8mhSa4OpkjCJVKOqUPFzfw'], 'title': 'Hết Thương Cạn Nhớ - Đức Phúc | Anh Hảo Cover Siêu Hài', 'long_desc': None, 'channel': 'Anh Hảo cô vơ', 'duration': '4:36', 'views': '13,221,215 views', 'publish_time': '3 years ago', 'url_suffix': '/watch?v=E9Gtl8mOsVc&pp=ygUaaOG6v3QgdGjGsMahbmcgY-G6oW4gbmjhu5s%3D'}, {'id': 'vWmxYKYMrj8', 'thumbnails': ['https://i.ytimg.com/vi/vWmxYKYMrj8/hqdefault.jpg?sqp=-oaymwEjCOADEI4CSFryq4qpAxUIARUAAAAAGAElAADIQj0AgKJDeAE=&rs=AOn4CLBkoDdQg2tMbjwsor3oiqrPmLvxWQ'], 'title': 'Đức Phúc - Liên Khúc Những Bài Hát Hay Nhất Của Đức Phúc - Hết Thương Cạn Nhớ', 'long_desc': None, 'channel': 'Nhạc Tuyển Tập', 'duration': '51:32', 'views': '757,138 views', 'publish_time': '3 years ago', 'url_suffix': '/watch?v=vWmxYKYMrj8&pp=ygUaaOG6v3QgdGjGsMahbmcgY-G6oW4gbmjhu5s%3D'}, {'id': 'JDzZb9zTaj4', 'thumbnails': ['https://i.ytimg.com/vi/JDzZb9zTaj4/hq720.jpg?sqp=-oaymwEjCOgCEMoBSFryq4qpAxUIARUAAAAAGAElAADIQj0AgKJDeAE=&rs=AOn4CLAT3zVe34-V-PmRCxPFnvUSb1_kZw', 'https://i.ytimg.com/vi/JDzZb9zTaj4/hq720.jpg?sqp=-oaymwEXCNAFEJQDSFryq4qpAwkIARUAAIhCGAE=&rs=AOn4CLBnBnzvvEuj4sLJ-NFI_a0aQHqnng'], 'title': 'Hết Thương Cạn Nhớ | Nhi Nhi - Tuyệt Phẩm Cover', 'long_desc': None, 'channel': 'CT Bắp Studio', 'duration': '4:25', 'views': '3,254,886 views', 'publish_time': '3 years ago', 'url_suffix': '/watch?v=JDzZb9zTaj4&pp=ygUaaOG6v3QgdGjGsMahbmcgY-G6oW4gbmjhu5s%3D'}, {'id': 'xM1lw0d_5D4', 'thumbnails': ['https://i.ytimg.com/vi/xM1lw0d_5D4/hq720.jpg?sqp=-oaymwEjCOgCEMoBSFryq4qpAxUIARUAAAAAGAElAADIQj0AgKJDeAE=&rs=AOn4CLAGs2MMCJldKPLdzCS0JQhKI-SDPw', 'https://i.ytimg.com/vi/xM1lw0d_5D4/hq720.jpg?sqp=-oaymwEXCNAFEJQDSFryq4qpAwkIARUAAIhCGAE=&rs=AOn4CLDFJP_aiuLPoluiAAJ53jYZtGXPNQ'], 'title': 'Hết Thương Cạn Nhớ - Đức Phúc [LYRIC VIDEO] #HTCN', 'long_desc': None, 'channel': 'Hạ Vũ', 'duration': '4:44', 'views': '11,211,174 views', 'publish_time': '3 years ago', 'url_suffix': '/watch?v=xM1lw0d_5D4&pp=ygUaaOG6v3QgdGjGsMahbmcgY-G6oW4gbmjhu5s%3D'}, {'id': '1R4Hjiv8obk', 'thumbnails': ['https://i.ytimg.com/vi/1R4Hjiv8obk/hq720.jpg?sqp=-oaymwE9COgCEMoBSFryq4qpAy8IARUAAAAAGAElAADIQj0AgKJDeAHwAQH4Af4JgALQBYoCDAgAEAEYQSBYKGUwDw==&rs=AOn4CLAZonkBEVmvsBqQJdyUNx_mgqYvsw', 'https://i.ytimg.com/vi/1R4Hjiv8obk/hq720.jpg?sqp=-oaymwExCNAFEJQDSFryq4qpAyMIARUAAIhCGAHwAQH4Af4JgALQBYoCDAgAEAEYQSBYKGUwDw==&rs=AOn4CLDE6-B3HNeIRi3IaspK1e5dKBrn0w'], 'title': 'Hết Thương Cạn Nhớ - Đức Phúc | Lyric Video | Chẳng cần một ai nữa, tất cả ai cũng dư thừa...', 'long_desc': None, 'channel': 'Daz Music', 'duration': '4:44', 'views': '2,082 views', 'publish_time': '1 year ago', 'url_suffix': '/watch?v=1R4Hjiv8obk&pp=ygUaaOG6v3QgdGjGsMahbmcgY-G6oW4gbmjhu5s%3D'}, {'id': 'h6jVUnki9Rk', 'thumbnails': ['https://i.ytimg.com/vi/h6jVUnki9Rk/hq720.jpg?sqp=-oaymwEjCOgCEMoBSFryq4qpAxUIARUAAAAAGAElAADIQj0AgKJDeAE=&rs=AOn4CLBZ2D_Glj7L6Nq5qMHOChO2Uyvuxg', 'https://i.ytimg.com/vi/h6jVUnki9Rk/hq720.jpg?sqp=-oaymwEXCNAFEJQDSFryq4qpAwkIARUAAIhCGAE=&rs=AOn4CLA12TelhP9f5Mr40OBVoVVTA92lMg'], 'title': 'Ưng Hoàng Phúc hát hit HẾT THƯƠNG CẠN NHỚ của Đức Phúc theo cách mới lạ, nghe cực phiêu | #GLTG', 'long_desc': None, 'channel': 'F Music', 'duration': '4:31', 'views': '46,004 views', 'publish_time': '9 months ago', 'url_suffix': '/watch?v=h6jVUnki9Rk&pp=ygUaaOG6v3QgdGjGsMahbmcgY-G6oW4gbmjhu5s%3D'}]\n",
            "/watch?v=DZDYZ9nRHfU&pp=ygUaaOG6v3QgdGjGsMahbmcgY-G6oW4gbmjhu5s%3D\n",
            "http://www.youtube.com/watch?v=DZDYZ9nRHfU&pp=ygUaaOG6v3QgdGjGsMahbmcgY-G6oW4gbmjhu5s%3D\n"
          ]
        }
      ]
    },
    {
      "cell_type": "code",
      "source": [
        "from youtube_search import YoutubeSearch\n",
        "import webbrowser\n",
        "from openpyxl import Workbook\n",
        "data=Workbook()\n",
        "sheet=data.active\n",
        "mysong= input('nhập tên bài hát')\n",
        "print(mysong)\n",
        "result=YoutubeSearch(mysong,max_results=10).to_dict()\n",
        "print(result)\n",
        "for i in range (10):\n",
        "  print(result[i]['title'])\n",
        "  print(result[i],['url_suffix'])\n",
        "  url = 'http://www.youtube.com'+result[0]['url_suffix']\n",
        "  print(url)\n",
        "  sheet['A'+str(i+1)]=i+1\n",
        "  sheet['B'+str(i+1)]=result[i]['title']\n",
        "  sheet['C'+str(i+1)]=result[i]['url_suffix']\n",
        "  sheet['D'+str(i+1)]=result[i]['views']\n",
        "\n",
        "    #webbrowser.open(url)\n",
        "data.save('/content/drive/MyDrive/DATA FOR AI/youtube.xlsx')"
      ],
      "metadata": {
        "colab": {
          "base_uri": "https://localhost:8080/"
        },
        "id": "gkzee-cG8K8Z",
        "outputId": "f8e66f78-8658-43fc-9564-ab6acf984b5d"
      },
      "execution_count": 6,
      "outputs": [
        {
          "output_type": "stream",
          "name": "stdout",
          "text": [
            "nhập tên bài háthết thương cạn nhớ\n",
            "hết thương cạn nhớ\n",
            "[{'id': 'DZDYZ9nRHfU', 'thumbnails': ['https://i.ytimg.com/vi/DZDYZ9nRHfU/hq720.jpg?sqp=-oaymwEjCOgCEMoBSFryq4qpAxUIARUAAAAAGAElAADIQj0AgKJDeAE=&rs=AOn4CLA7lheqcFB1euiw8OmR4qeRdYsWvA', 'https://i.ytimg.com/vi/DZDYZ9nRHfU/hq720.jpg?sqp=-oaymwEXCNAFEJQDSFryq4qpAwkIARUAAIhCGAE=&rs=AOn4CLDaLAIKOwteI1lp6Ul164GJLIbEHQ'], 'title': 'HẾT THƯƠNG CẠN NHỚ - ĐỨC PHÚC | OFFICIAL MUSIC VIDEO', 'long_desc': None, 'channel': 'ĐỨC PHÚC OFFICIAL', 'duration': '6:22', 'views': '129,919,446 views', 'publish_time': '3 years ago', 'url_suffix': '/watch?v=DZDYZ9nRHfU&pp=ygUaaOG6v3QgdGjGsMahbmcgY-G6oW4gbmjhu5s%3D'}, {'id': 'g4KFkVQu-7g', 'thumbnails': ['https://i.ytimg.com/vi/g4KFkVQu-7g/hq720.jpg?sqp=-oaymwEjCOgCEMoBSFryq4qpAxUIARUAAAAAGAElAADIQj0AgKJDeAE=&rs=AOn4CLCYxsLMPG7Vub39kzOxtzV9JKXD_g', 'https://i.ytimg.com/vi/g4KFkVQu-7g/hq720.jpg?sqp=-oaymwEXCNAFEJQDSFryq4qpAwkIARUAAIhCGAE=&rs=AOn4CLCoWQ2xlg6-3OR9tDjjdVvCNhakGQ'], 'title': 'Hết Thương Cạn Nhớ - Đức Phúc [Audio Lyrics]', 'long_desc': None, 'channel': 'NhacPro - Music', 'duration': '4:44', 'views': '30,938,674 views', 'publish_time': '3 years ago', 'url_suffix': '/watch?v=g4KFkVQu-7g&pp=ygUaaOG6v3QgdGjGsMahbmcgY-G6oW4gbmjhu5s%3D'}, {'id': 'gwvA4V-7tLE', 'thumbnails': ['https://i.ytimg.com/vi/gwvA4V-7tLE/hq720.jpg?sqp=-oaymwEjCOgCEMoBSFryq4qpAxUIARUAAAAAGAElAADIQj0AgKJDeAE=&rs=AOn4CLA1ygKQBnAlN_UQ7RB2mTiB_woUeg', 'https://i.ytimg.com/vi/gwvA4V-7tLE/hq720.jpg?sqp=-oaymwEXCNAFEJQDSFryq4qpAwkIARUAAIhCGAE=&rs=AOn4CLAlnZZCikk1O_tSB91Ane6TwQt0yw'], 'title': 'Trấn Thành bất ngờ hát live \"Hết Thương Cạn Nhớ\" cực hay cùng Hiền Hồ và Erik l SÓNG 20', 'long_desc': None, 'channel': 'VieTalents', 'duration': '12:09', 'views': '70,005,823 views', 'publish_time': '3 years ago', 'url_suffix': '/watch?v=gwvA4V-7tLE&pp=ygUaaOG6v3QgdGjGsMahbmcgY-G6oW4gbmjhu5s%3D'}, {'id': 'U4k06KAm5Q8', 'thumbnails': ['https://i.ytimg.com/vi/U4k06KAm5Q8/hq720.jpg?sqp=-oaymwEjCOgCEMoBSFryq4qpAxUIARUAAAAAGAElAADIQj0AgKJDeAE=&rs=AOn4CLC8mRLn4ceRLQcQO6rDUDEWaL7E_w', 'https://i.ytimg.com/vi/U4k06KAm5Q8/hq720.jpg?sqp=-oaymwEXCNAFEJQDSFryq4qpAwkIARUAAIhCGAE=&rs=AOn4CLBzvxajQgsbjMINC151tZX5t6BcDA'], 'title': 'Sự thật là chỉ mỗi em hết thương cạn nhớ../ List nhạc buồn thiu buồn thúi/Trạm tình yêu số 6', 'long_desc': None, 'channel': 'deloies.925', 'duration': '36:39', 'views': '14,476 views', 'publish_time': '1 month ago', 'url_suffix': '/watch?v=U4k06KAm5Q8&pp=ygUaaOG6v3QgdGjGsMahbmcgY-G6oW4gbmjhu5s%3D'}, {'id': 'E9Gtl8mOsVc', 'thumbnails': ['https://i.ytimg.com/vi/E9Gtl8mOsVc/hq720.jpg?sqp=-oaymwEjCOgCEMoBSFryq4qpAxUIARUAAAAAGAElAADIQj0AgKJDeAE=&rs=AOn4CLDH2RuN2BwMFWKEnfUTJcmd0TLJ2g', 'https://i.ytimg.com/vi/E9Gtl8mOsVc/hq720.jpg?sqp=-oaymwEXCNAFEJQDSFryq4qpAwkIARUAAIhCGAE=&rs=AOn4CLBsm3yg8mhSa4OpkjCJVKOqUPFzfw'], 'title': 'Hết Thương Cạn Nhớ - Đức Phúc | Anh Hảo Cover Siêu Hài', 'long_desc': None, 'channel': 'Anh Hảo cô vơ', 'duration': '4:36', 'views': '13,221,226 views', 'publish_time': '3 years ago', 'url_suffix': '/watch?v=E9Gtl8mOsVc&pp=ygUaaOG6v3QgdGjGsMahbmcgY-G6oW4gbmjhu5s%3D'}, {'id': 'JDzZb9zTaj4', 'thumbnails': ['https://i.ytimg.com/vi/JDzZb9zTaj4/hq720.jpg?sqp=-oaymwEjCOgCEMoBSFryq4qpAxUIARUAAAAAGAElAADIQj0AgKJDeAE=&rs=AOn4CLAT3zVe34-V-PmRCxPFnvUSb1_kZw', 'https://i.ytimg.com/vi/JDzZb9zTaj4/hq720.jpg?sqp=-oaymwEXCNAFEJQDSFryq4qpAwkIARUAAIhCGAE=&rs=AOn4CLBnBnzvvEuj4sLJ-NFI_a0aQHqnng'], 'title': 'Hết Thương Cạn Nhớ | Nhi Nhi - Tuyệt Phẩm Cover', 'long_desc': None, 'channel': 'CT Bắp Studio', 'duration': '4:25', 'views': '3,254,890 views', 'publish_time': '3 years ago', 'url_suffix': '/watch?v=JDzZb9zTaj4&pp=ygUaaOG6v3QgdGjGsMahbmcgY-G6oW4gbmjhu5s%3D'}, {'id': 'h6jVUnki9Rk', 'thumbnails': ['https://i.ytimg.com/vi/h6jVUnki9Rk/hq720.jpg?sqp=-oaymwEjCOgCEMoBSFryq4qpAxUIARUAAAAAGAElAADIQj0AgKJDeAE=&rs=AOn4CLBZ2D_Glj7L6Nq5qMHOChO2Uyvuxg', 'https://i.ytimg.com/vi/h6jVUnki9Rk/hq720.jpg?sqp=-oaymwEXCNAFEJQDSFryq4qpAwkIARUAAIhCGAE=&rs=AOn4CLA12TelhP9f5Mr40OBVoVVTA92lMg'], 'title': 'Ưng Hoàng Phúc hát hit HẾT THƯƠNG CẠN NHỚ của Đức Phúc theo cách mới lạ, nghe cực phiêu | #GLTG', 'long_desc': None, 'channel': 'F Music', 'duration': '4:31', 'views': '46,004 views', 'publish_time': '9 months ago', 'url_suffix': '/watch?v=h6jVUnki9Rk&pp=ygUaaOG6v3QgdGjGsMahbmcgY-G6oW4gbmjhu5s%3D'}, {'id': 'xM1lw0d_5D4', 'thumbnails': ['https://i.ytimg.com/vi/xM1lw0d_5D4/hq720.jpg?sqp=-oaymwEjCOgCEMoBSFryq4qpAxUIARUAAAAAGAElAADIQj0AgKJDeAE=&rs=AOn4CLAGs2MMCJldKPLdzCS0JQhKI-SDPw', 'https://i.ytimg.com/vi/xM1lw0d_5D4/hq720.jpg?sqp=-oaymwEXCNAFEJQDSFryq4qpAwkIARUAAIhCGAE=&rs=AOn4CLDFJP_aiuLPoluiAAJ53jYZtGXPNQ'], 'title': 'Hết Thương Cạn Nhớ - Đức Phúc [LYRIC VIDEO] #HTCN', 'long_desc': None, 'channel': 'Hạ Vũ', 'duration': '4:44', 'views': '11,211,206 views', 'publish_time': '3 years ago', 'url_suffix': '/watch?v=xM1lw0d_5D4&pp=ygUaaOG6v3QgdGjGsMahbmcgY-G6oW4gbmjhu5s%3D'}, {'id': '1R4Hjiv8obk', 'thumbnails': ['https://i.ytimg.com/vi/1R4Hjiv8obk/hq720.jpg?sqp=-oaymwE9COgCEMoBSFryq4qpAy8IARUAAAAAGAElAADIQj0AgKJDeAHwAQH4Af4JgALQBYoCDAgAEAEYQSBYKGUwDw==&rs=AOn4CLAZonkBEVmvsBqQJdyUNx_mgqYvsw', 'https://i.ytimg.com/vi/1R4Hjiv8obk/hq720.jpg?sqp=-oaymwExCNAFEJQDSFryq4qpAyMIARUAAIhCGAHwAQH4Af4JgALQBYoCDAgAEAEYQSBYKGUwDw==&rs=AOn4CLDE6-B3HNeIRi3IaspK1e5dKBrn0w'], 'title': 'Hết Thương Cạn Nhớ - Đức Phúc | Lyric Video | Chẳng cần một ai nữa, tất cả ai cũng dư thừa...', 'long_desc': None, 'channel': 'Daz Music', 'duration': '4:44', 'views': '2,082 views', 'publish_time': '1 year ago', 'url_suffix': '/watch?v=1R4Hjiv8obk&pp=ygUaaOG6v3QgdGjGsMahbmcgY-G6oW4gbmjhu5s%3D'}, {'id': 'Se1dHEG2kI0', 'thumbnails': ['https://i.ytimg.com/vi/Se1dHEG2kI0/hq720.jpg?sqp=-oaymwEjCOgCEMoBSFryq4qpAxUIARUAAAAAGAElAADIQj0AgKJDeAE=&rs=AOn4CLB8VHPA-tYTW44UGwTTxEIpJPPskQ', 'https://i.ytimg.com/vi/Se1dHEG2kI0/hq720.jpg?sqp=-oaymwEXCNAFEJQDSFryq4qpAwkIARUAAIhCGAE=&rs=AOn4CLDbOyApZ41qju5pMvC1X8EtNTrsng'], 'title': 'Hết Thương Cạn Nhớ | Đức Phúc | Bun & Orin Cover', 'long_desc': None, 'channel': 'Bun & Orin', 'duration': '3:44', 'views': '1,114,901 views', 'publish_time': '3 years ago', 'url_suffix': '/watch?v=Se1dHEG2kI0&pp=ygUaaOG6v3QgdGjGsMahbmcgY-G6oW4gbmjhu5s%3D'}]\n",
            "HẾT THƯƠNG CẠN NHỚ - ĐỨC PHÚC | OFFICIAL MUSIC VIDEO\n",
            "{'id': 'DZDYZ9nRHfU', 'thumbnails': ['https://i.ytimg.com/vi/DZDYZ9nRHfU/hq720.jpg?sqp=-oaymwEjCOgCEMoBSFryq4qpAxUIARUAAAAAGAElAADIQj0AgKJDeAE=&rs=AOn4CLA7lheqcFB1euiw8OmR4qeRdYsWvA', 'https://i.ytimg.com/vi/DZDYZ9nRHfU/hq720.jpg?sqp=-oaymwEXCNAFEJQDSFryq4qpAwkIARUAAIhCGAE=&rs=AOn4CLDaLAIKOwteI1lp6Ul164GJLIbEHQ'], 'title': 'HẾT THƯƠNG CẠN NHỚ - ĐỨC PHÚC | OFFICIAL MUSIC VIDEO', 'long_desc': None, 'channel': 'ĐỨC PHÚC OFFICIAL', 'duration': '6:22', 'views': '129,919,446 views', 'publish_time': '3 years ago', 'url_suffix': '/watch?v=DZDYZ9nRHfU&pp=ygUaaOG6v3QgdGjGsMahbmcgY-G6oW4gbmjhu5s%3D'} ['url_suffix']\n",
            "http://www.youtube.com/watch?v=DZDYZ9nRHfU&pp=ygUaaOG6v3QgdGjGsMahbmcgY-G6oW4gbmjhu5s%3D\n",
            "Hết Thương Cạn Nhớ - Đức Phúc [Audio Lyrics]\n",
            "{'id': 'g4KFkVQu-7g', 'thumbnails': ['https://i.ytimg.com/vi/g4KFkVQu-7g/hq720.jpg?sqp=-oaymwEjCOgCEMoBSFryq4qpAxUIARUAAAAAGAElAADIQj0AgKJDeAE=&rs=AOn4CLCYxsLMPG7Vub39kzOxtzV9JKXD_g', 'https://i.ytimg.com/vi/g4KFkVQu-7g/hq720.jpg?sqp=-oaymwEXCNAFEJQDSFryq4qpAwkIARUAAIhCGAE=&rs=AOn4CLCoWQ2xlg6-3OR9tDjjdVvCNhakGQ'], 'title': 'Hết Thương Cạn Nhớ - Đức Phúc [Audio Lyrics]', 'long_desc': None, 'channel': 'NhacPro - Music', 'duration': '4:44', 'views': '30,938,674 views', 'publish_time': '3 years ago', 'url_suffix': '/watch?v=g4KFkVQu-7g&pp=ygUaaOG6v3QgdGjGsMahbmcgY-G6oW4gbmjhu5s%3D'} ['url_suffix']\n",
            "http://www.youtube.com/watch?v=DZDYZ9nRHfU&pp=ygUaaOG6v3QgdGjGsMahbmcgY-G6oW4gbmjhu5s%3D\n",
            "Trấn Thành bất ngờ hát live \"Hết Thương Cạn Nhớ\" cực hay cùng Hiền Hồ và Erik l SÓNG 20\n",
            "{'id': 'gwvA4V-7tLE', 'thumbnails': ['https://i.ytimg.com/vi/gwvA4V-7tLE/hq720.jpg?sqp=-oaymwEjCOgCEMoBSFryq4qpAxUIARUAAAAAGAElAADIQj0AgKJDeAE=&rs=AOn4CLA1ygKQBnAlN_UQ7RB2mTiB_woUeg', 'https://i.ytimg.com/vi/gwvA4V-7tLE/hq720.jpg?sqp=-oaymwEXCNAFEJQDSFryq4qpAwkIARUAAIhCGAE=&rs=AOn4CLAlnZZCikk1O_tSB91Ane6TwQt0yw'], 'title': 'Trấn Thành bất ngờ hát live \"Hết Thương Cạn Nhớ\" cực hay cùng Hiền Hồ và Erik l SÓNG 20', 'long_desc': None, 'channel': 'VieTalents', 'duration': '12:09', 'views': '70,005,823 views', 'publish_time': '3 years ago', 'url_suffix': '/watch?v=gwvA4V-7tLE&pp=ygUaaOG6v3QgdGjGsMahbmcgY-G6oW4gbmjhu5s%3D'} ['url_suffix']\n",
            "http://www.youtube.com/watch?v=DZDYZ9nRHfU&pp=ygUaaOG6v3QgdGjGsMahbmcgY-G6oW4gbmjhu5s%3D\n",
            "Sự thật là chỉ mỗi em hết thương cạn nhớ../ List nhạc buồn thiu buồn thúi/Trạm tình yêu số 6\n",
            "{'id': 'U4k06KAm5Q8', 'thumbnails': ['https://i.ytimg.com/vi/U4k06KAm5Q8/hq720.jpg?sqp=-oaymwEjCOgCEMoBSFryq4qpAxUIARUAAAAAGAElAADIQj0AgKJDeAE=&rs=AOn4CLC8mRLn4ceRLQcQO6rDUDEWaL7E_w', 'https://i.ytimg.com/vi/U4k06KAm5Q8/hq720.jpg?sqp=-oaymwEXCNAFEJQDSFryq4qpAwkIARUAAIhCGAE=&rs=AOn4CLBzvxajQgsbjMINC151tZX5t6BcDA'], 'title': 'Sự thật là chỉ mỗi em hết thương cạn nhớ../ List nhạc buồn thiu buồn thúi/Trạm tình yêu số 6', 'long_desc': None, 'channel': 'deloies.925', 'duration': '36:39', 'views': '14,476 views', 'publish_time': '1 month ago', 'url_suffix': '/watch?v=U4k06KAm5Q8&pp=ygUaaOG6v3QgdGjGsMahbmcgY-G6oW4gbmjhu5s%3D'} ['url_suffix']\n",
            "http://www.youtube.com/watch?v=DZDYZ9nRHfU&pp=ygUaaOG6v3QgdGjGsMahbmcgY-G6oW4gbmjhu5s%3D\n",
            "Hết Thương Cạn Nhớ - Đức Phúc | Anh Hảo Cover Siêu Hài\n",
            "{'id': 'E9Gtl8mOsVc', 'thumbnails': ['https://i.ytimg.com/vi/E9Gtl8mOsVc/hq720.jpg?sqp=-oaymwEjCOgCEMoBSFryq4qpAxUIARUAAAAAGAElAADIQj0AgKJDeAE=&rs=AOn4CLDH2RuN2BwMFWKEnfUTJcmd0TLJ2g', 'https://i.ytimg.com/vi/E9Gtl8mOsVc/hq720.jpg?sqp=-oaymwEXCNAFEJQDSFryq4qpAwkIARUAAIhCGAE=&rs=AOn4CLBsm3yg8mhSa4OpkjCJVKOqUPFzfw'], 'title': 'Hết Thương Cạn Nhớ - Đức Phúc | Anh Hảo Cover Siêu Hài', 'long_desc': None, 'channel': 'Anh Hảo cô vơ', 'duration': '4:36', 'views': '13,221,226 views', 'publish_time': '3 years ago', 'url_suffix': '/watch?v=E9Gtl8mOsVc&pp=ygUaaOG6v3QgdGjGsMahbmcgY-G6oW4gbmjhu5s%3D'} ['url_suffix']\n",
            "http://www.youtube.com/watch?v=DZDYZ9nRHfU&pp=ygUaaOG6v3QgdGjGsMahbmcgY-G6oW4gbmjhu5s%3D\n",
            "Hết Thương Cạn Nhớ | Nhi Nhi - Tuyệt Phẩm Cover\n",
            "{'id': 'JDzZb9zTaj4', 'thumbnails': ['https://i.ytimg.com/vi/JDzZb9zTaj4/hq720.jpg?sqp=-oaymwEjCOgCEMoBSFryq4qpAxUIARUAAAAAGAElAADIQj0AgKJDeAE=&rs=AOn4CLAT3zVe34-V-PmRCxPFnvUSb1_kZw', 'https://i.ytimg.com/vi/JDzZb9zTaj4/hq720.jpg?sqp=-oaymwEXCNAFEJQDSFryq4qpAwkIARUAAIhCGAE=&rs=AOn4CLBnBnzvvEuj4sLJ-NFI_a0aQHqnng'], 'title': 'Hết Thương Cạn Nhớ | Nhi Nhi - Tuyệt Phẩm Cover', 'long_desc': None, 'channel': 'CT Bắp Studio', 'duration': '4:25', 'views': '3,254,890 views', 'publish_time': '3 years ago', 'url_suffix': '/watch?v=JDzZb9zTaj4&pp=ygUaaOG6v3QgdGjGsMahbmcgY-G6oW4gbmjhu5s%3D'} ['url_suffix']\n",
            "http://www.youtube.com/watch?v=DZDYZ9nRHfU&pp=ygUaaOG6v3QgdGjGsMahbmcgY-G6oW4gbmjhu5s%3D\n",
            "Ưng Hoàng Phúc hát hit HẾT THƯƠNG CẠN NHỚ của Đức Phúc theo cách mới lạ, nghe cực phiêu | #GLTG\n",
            "{'id': 'h6jVUnki9Rk', 'thumbnails': ['https://i.ytimg.com/vi/h6jVUnki9Rk/hq720.jpg?sqp=-oaymwEjCOgCEMoBSFryq4qpAxUIARUAAAAAGAElAADIQj0AgKJDeAE=&rs=AOn4CLBZ2D_Glj7L6Nq5qMHOChO2Uyvuxg', 'https://i.ytimg.com/vi/h6jVUnki9Rk/hq720.jpg?sqp=-oaymwEXCNAFEJQDSFryq4qpAwkIARUAAIhCGAE=&rs=AOn4CLA12TelhP9f5Mr40OBVoVVTA92lMg'], 'title': 'Ưng Hoàng Phúc hát hit HẾT THƯƠNG CẠN NHỚ của Đức Phúc theo cách mới lạ, nghe cực phiêu | #GLTG', 'long_desc': None, 'channel': 'F Music', 'duration': '4:31', 'views': '46,004 views', 'publish_time': '9 months ago', 'url_suffix': '/watch?v=h6jVUnki9Rk&pp=ygUaaOG6v3QgdGjGsMahbmcgY-G6oW4gbmjhu5s%3D'} ['url_suffix']\n",
            "http://www.youtube.com/watch?v=DZDYZ9nRHfU&pp=ygUaaOG6v3QgdGjGsMahbmcgY-G6oW4gbmjhu5s%3D\n",
            "Hết Thương Cạn Nhớ - Đức Phúc [LYRIC VIDEO] #HTCN\n",
            "{'id': 'xM1lw0d_5D4', 'thumbnails': ['https://i.ytimg.com/vi/xM1lw0d_5D4/hq720.jpg?sqp=-oaymwEjCOgCEMoBSFryq4qpAxUIARUAAAAAGAElAADIQj0AgKJDeAE=&rs=AOn4CLAGs2MMCJldKPLdzCS0JQhKI-SDPw', 'https://i.ytimg.com/vi/xM1lw0d_5D4/hq720.jpg?sqp=-oaymwEXCNAFEJQDSFryq4qpAwkIARUAAIhCGAE=&rs=AOn4CLDFJP_aiuLPoluiAAJ53jYZtGXPNQ'], 'title': 'Hết Thương Cạn Nhớ - Đức Phúc [LYRIC VIDEO] #HTCN', 'long_desc': None, 'channel': 'Hạ Vũ', 'duration': '4:44', 'views': '11,211,206 views', 'publish_time': '3 years ago', 'url_suffix': '/watch?v=xM1lw0d_5D4&pp=ygUaaOG6v3QgdGjGsMahbmcgY-G6oW4gbmjhu5s%3D'} ['url_suffix']\n",
            "http://www.youtube.com/watch?v=DZDYZ9nRHfU&pp=ygUaaOG6v3QgdGjGsMahbmcgY-G6oW4gbmjhu5s%3D\n",
            "Hết Thương Cạn Nhớ - Đức Phúc | Lyric Video | Chẳng cần một ai nữa, tất cả ai cũng dư thừa...\n",
            "{'id': '1R4Hjiv8obk', 'thumbnails': ['https://i.ytimg.com/vi/1R4Hjiv8obk/hq720.jpg?sqp=-oaymwE9COgCEMoBSFryq4qpAy8IARUAAAAAGAElAADIQj0AgKJDeAHwAQH4Af4JgALQBYoCDAgAEAEYQSBYKGUwDw==&rs=AOn4CLAZonkBEVmvsBqQJdyUNx_mgqYvsw', 'https://i.ytimg.com/vi/1R4Hjiv8obk/hq720.jpg?sqp=-oaymwExCNAFEJQDSFryq4qpAyMIARUAAIhCGAHwAQH4Af4JgALQBYoCDAgAEAEYQSBYKGUwDw==&rs=AOn4CLDE6-B3HNeIRi3IaspK1e5dKBrn0w'], 'title': 'Hết Thương Cạn Nhớ - Đức Phúc | Lyric Video | Chẳng cần một ai nữa, tất cả ai cũng dư thừa...', 'long_desc': None, 'channel': 'Daz Music', 'duration': '4:44', 'views': '2,082 views', 'publish_time': '1 year ago', 'url_suffix': '/watch?v=1R4Hjiv8obk&pp=ygUaaOG6v3QgdGjGsMahbmcgY-G6oW4gbmjhu5s%3D'} ['url_suffix']\n",
            "http://www.youtube.com/watch?v=DZDYZ9nRHfU&pp=ygUaaOG6v3QgdGjGsMahbmcgY-G6oW4gbmjhu5s%3D\n",
            "Hết Thương Cạn Nhớ | Đức Phúc | Bun & Orin Cover\n",
            "{'id': 'Se1dHEG2kI0', 'thumbnails': ['https://i.ytimg.com/vi/Se1dHEG2kI0/hq720.jpg?sqp=-oaymwEjCOgCEMoBSFryq4qpAxUIARUAAAAAGAElAADIQj0AgKJDeAE=&rs=AOn4CLB8VHPA-tYTW44UGwTTxEIpJPPskQ', 'https://i.ytimg.com/vi/Se1dHEG2kI0/hq720.jpg?sqp=-oaymwEXCNAFEJQDSFryq4qpAwkIARUAAIhCGAE=&rs=AOn4CLDbOyApZ41qju5pMvC1X8EtNTrsng'], 'title': 'Hết Thương Cạn Nhớ | Đức Phúc | Bun & Orin Cover', 'long_desc': None, 'channel': 'Bun & Orin', 'duration': '3:44', 'views': '1,114,901 views', 'publish_time': '3 years ago', 'url_suffix': '/watch?v=Se1dHEG2kI0&pp=ygUaaOG6v3QgdGjGsMahbmcgY-G6oW4gbmjhu5s%3D'} ['url_suffix']\n",
            "http://www.youtube.com/watch?v=DZDYZ9nRHfU&pp=ygUaaOG6v3QgdGjGsMahbmcgY-G6oW4gbmjhu5s%3D\n"
          ]
        }
      ]
    }
  ]
}